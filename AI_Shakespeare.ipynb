{
 "cells": [
  {
   "cell_type": "code",
   "execution_count": 2,
   "metadata": {},
   "outputs": [
    {
     "name": "stderr",
     "output_type": "stream",
     "text": [
      "Using TensorFlow backend.\n"
     ]
    },
    {
     "name": "stdout",
     "output_type": "stream",
     "text": [
      "/home/joey/Documents/MachineLearning/AIShakespeare/\n"
     ]
    }
   ],
   "source": [
    "import os\n",
    "import numpy as np\n",
    "\n",
    "import matplotlib.pyplot as pyplot\n",
    "\n",
    "import tensorflow as tf\n",
    "from keras.models import Model, load_model\n",
    "from keras.layers import Dense, Flatten, LeakyReLU\n",
    "from keras import backend as K\n",
    "import keras\n",
    "from sklearn.metrics import roc_curve, auc,confusion_matrix\n",
    "from sklearn.model_selection import train_test_split\n",
    "from keras.utils import np_utils\n",
    "\n",
    "import pandas as pd \n",
    "\n",
    "PATH = os.getcwd()+'/'\n",
    "print(PATH)"
   ]
  },
  {
   "cell_type": "markdown",
   "metadata": {},
   "source": [
    "### Import text"
   ]
  },
  {
   "cell_type": "code",
   "execution_count": 3,
   "metadata": {},
   "outputs": [
    {
     "name": "stdout",
     "output_type": "stream",
     "text": [
      "From fairest creatures we desire increase,\n",
      "\n"
     ]
    }
   ],
   "source": [
    "#Load file of Trump Tweets\n",
    "with open('Shakespeares-Sonnets.txt',encoding='utf-8') as f:\n",
    "    text = f.readlines()\n",
    "text = pd.DataFrame(text)[0]\n",
    "print(text[0]) #Print first instance"
   ]
  },
  {
   "cell_type": "markdown",
   "metadata": {},
   "source": [
    "### Reformat"
   ]
  },
  {
   "cell_type": "code",
   "execution_count": 4,
   "metadata": {},
   "outputs": [
    {
     "name": "stdout",
     "output_type": "stream",
     "text": [
      "From fairest creatures we desire increase,\n",
      "\n",
      "['from', 'fairest', 'creatures', 'we', 'desire', 'increase', 'that', 'thereby', \"beauty's\", 'rose', 'might', 'never', 'die', 'but', 'as', 'the', 'riper', 'should', 'by', 'time', 'decease', 'his', 'tender', 'heir', 'might', 'bear', 'his', 'memory', 'but', 'thou', 'contracted', 'to', 'thine', 'own', 'bright', 'eyes', \"feed'st\", 'thy', \"light's\", 'flame', 'with', 'self', 'substantial', 'fuel', 'making', 'a', 'famine', 'where', 'abundance', 'lies', 'thy', 'self', 'thy', 'foe', 'to', 'thy', 'sweet', 'self', 'too', 'cruel', 'thou', 'that', 'art', 'now', 'the', \"world's\", 'fresh', 'ornament', 'and', 'only', 'herald', 'to', 'the', 'gaudy', 'spring', 'within', 'thine', 'own', 'bud', 'buriest', 'thy', 'content', 'and', 'tender', 'churl', \"mak'st\", 'waste', 'in', 'niggarding', 'pity', 'the', 'world', 'or', 'else', 'this', 'glutton', 'be', 'to', 'eat', 'the']\n"
     ]
    }
   ],
   "source": [
    "text = pd.DataFrame(text)[0]\n",
    "\n",
    "print(text[0]) #Print first instance\n",
    "TEXT = []\n",
    "for i in range(len(text)):\n",
    "    text[i] = keras.preprocessing.text.text_to_word_sequence(text[i],filters='!\"#‘’“”$%&@()*+,-./:;<=>?[\\\\]…^_`{|}~\\t\\n')\n",
    "    for j in range(len(text[i])):\n",
    "        TEXT.append(text[i][j])\n",
    "print(TEXT[0:100])"
   ]
  },
  {
   "cell_type": "markdown",
   "metadata": {},
   "source": [
    "Choose up to 5000 most common words and tokenize."
   ]
  },
  {
   "cell_type": "code",
   "execution_count": 5,
   "metadata": {},
   "outputs": [
    {
     "name": "stdout",
     "output_type": "stream",
     "text": [
      "Found 3227 unique tokens.\n"
     ]
    },
    {
     "name": "stderr",
     "output_type": "stream",
     "text": [
      "/usr/local/lib/python3.6/dist-packages/keras_preprocessing/text.py:178: UserWarning: The `nb_words` argument in `Tokenizer` has been renamed `num_words`.\n",
      "  warnings.warn('The `nb_words` argument in `Tokenizer` '\n"
     ]
    }
   ],
   "source": [
    "words = set(TEXT)\n",
    "MAX_NB_WORDS = 5000\n",
    "tokenizer = keras.preprocessing.text.Tokenizer(nb_words=MAX_NB_WORDS)\n",
    "tokenizer.fit_on_texts(TEXT)\n",
    "sequences = tokenizer.texts_to_sequences(text) #Convert tweets to numerical sequences\n",
    "\n",
    "word_index = tokenizer.word_index\n",
    "print('Found %s unique tokens.' % len(word_index))"
   ]
  },
  {
   "cell_type": "markdown",
   "metadata": {},
   "source": [
    "We can now see the most common words:"
   ]
  },
  {
   "cell_type": "code",
   "execution_count": 6,
   "metadata": {},
   "outputs": [
    {
     "name": "stdout",
     "output_type": "stream",
     "text": [
      "{'and': 1, 'the': 2, 'to': 3, 'my': 4, 'of': 5, 'i': 6, 'in': 7, 'that': 8, 'thy': 9, 'thou': 10, 'with': 11, 'for': 12, 'is': 13, 'not': 14, 'love': 15, 'a': 16, 'me': 17, 'but': 18, 'thee': 19, 'so': 20, 'be': 21, 'as': 22, 'all': 23, 'you': 24, 'which': 25, 'his': 26, 'when': 27, 'this': 28, 'it': 29, 'by': 30, 'your': 31, 'doth': 32, 'do': 33, 'from': 34, 'on': 35, 'or': 36, 'no': 37, 'have': 38, 'then': 39, 'what': 40, 'are': 41, 'if': 42, 'more': 43, 'mine': 44, 'their': 45, 'shall': 46, 'sweet': 47, 'time': 48, 'will': 49, 'they': 50, 'eyes': 51, 'beauty': 52, 'nor': 53, 'art': 54, 'her': 55, 'yet': 56, 'heart': 57, 'o': 58, 'than': 59, 'self': 60, 'should': 61, 'thine': 62, 'now': 63, 'can': 64, 'one': 65, 'hath': 66, 'where': 67, 'fair': 68, 'make': 69, 'he': 70, 'still': 71, 'how': 72, 'true': 73, 'eye': 74, 'him': 75, 'like': 76, 'see': 77, 'am': 78, 'she': 79, 'those': 80, 'though': 81, 'being': 82, 'some': 83, 'such': 84, 'own': 85, 'every': 86, 'were': 87, 'dost': 88, 'who': 89, 'live': 90, 'upon': 91, 'was': 92, 'may': 93, 'world': 94, 'say': 95, 'praise': 96, 'day': 97, 'give': 98, 'most': 99, \"love's\": 100, 'might': 101, 'new': 102, 'did': 103, 'let': 104, 'well': 105, 'at': 106, 'why': 107, 'even': 108, 'show': 109, 'life': 110, 'best': 111, 'since': 112, 'old': 113, 'look': 114, 'night': 115, 'dear': 116, 'these': 117, 'must': 118, 'would': 119, 'truth': 120, 'myself': 121, 'thus': 122, 'ill': 123, 'part': 124, 'worth': 125, 'made': 126, 'face': 127, 'whose': 128, 'nothing': 129, 'alone': 130, 'false': 131, 'better': 132, \"beauty's\": 133, 'too': 134, 'there': 135, 'hand': 136, 'thought': 137, 'away': 138, 'against': 139, 'thoughts': 140, 'our': 141, 'days': 142, 'an': 143, 'much': 144, 'up': 145, 'sight': 146, 'hast': 147, 'know': 148, 'them': 149, 'therefore': 150, 'both': 151, 'name': 152, 'never': 153, \"'\": 154, 'death': 155, 'mind': 156, \"time's\": 157, 'other': 158, 'find': 159, 'out': 160, 'muse': 161, 'far': 162, 'dead': 163, 'we': 164, 'tell': 165, 'age': 166, 'each': 167, 'youth': 168, 'good': 169, 'men': 170, 'before': 171, 'verse': 172, 'come': 173, 'tongue': 174, 'poor': 175, 'think': 176, 'proud': 177, 'gentle': 178, 'wilt': 179, 'had': 180, 'state': 181, 'till': 182, 'things': 183, 'friend': 184, 'use': 185, 'looks': 186, 'many': 187, 'none': 188, 'hate': 189, 'hold': 190, 'heaven': 191, 'first': 192, 'whilst': 193, 'black': 194, 'lie': 195, 'full': 196, 'take': 197, 'die': 198, 'bear': 199, 'making': 200, 'lies': 201, 'hours': 202, 'prove': 203, 'change': 204, 'kind': 205, 'mayst': 206, 'whom': 207, 'earth': 208, 'ever': 209, 'woe': 210, 'desire': 211, 'bright': 212, 'within': 213, 'form': 214, 'shalt': 215, \"summer's\": 216, 'pleasure': 217, 'happy': 218, 'end': 219, 'others': 220, 'after': 221, 'thing': 222, 'rich': 223, 'knows': 224, 'long': 225, 'sun': 226, 'seem': 227, \"'tis\": 228, 'grace': 229, 'pride': 230, 'seen': 231, 'shame': 232, 'glass': 233, 'great': 234, 'nature': 235, 'leave': 236, 'place': 237, 'could': 238, 'any': 239, 'call': 240, 'again': 241, 'pen': 242, 'write': 243, 'once': 244, 'words': 245, 'loving': 246, 'deeds': 247, 'cannot': 248, 'found': 249, 'fire': 250, 'right': 251, 'spirit': 252, 'soul': 253, 'pity': 254, 'treasure': 255, 'another': 256, 'back': 257, 'beauteous': 258, 'gone': 259, 'lives': 260, \"o'er\": 261, 'times': 262, 'strong': 263, 'keep': 264, 'without': 265, 'decay': 266, 'store': 267, 'past': 268, 'save': 269, 'stay': 270, 'lose': 271, 'loss': 272, 'two': 273, 'although': 274, 'power': 275, 'memory': 276, 'cruel': 277, 'brow': 278, 'deep': 279, 'child': 280, 'blood': 281, 'lovely': 282, 'gives': 283, 'summer': 284, 'leaves': 285, 'flowers': 286, 'joy': 287, 'fear': 288, 'grow': 289, 'blessed': 290, 'stand': 291, 'lines': 292, 'skill': 293, 'born': 294, 'glory': 295, 'view': 296, 'makes': 297, 'disgrace': 298, 'speak': 299, 'faults': 300, 'bring': 301, 'loves': 302, 'delight': 303, 'lest': 304, 'sake': 305, 'thence': 306, 'hell': 307, 'sin': 308, 'three': 309, 'tender': 310, 'fresh': 311, 'waste': 312, 'excuse': 313, 'cold': 314, 'through': 315, 'canst': 316, 'very': 317, 'same': 318, 'ten': 319, 'living': 320, 'thyself': 321, 'parts': 322, 'sing': 323, 'ah': 324, 'behold': 325, 'white': 326, 'yourself': 327, 'honour': 328, 'outward': 329, 'less': 330, 'wide': 331, 'worst': 332, 'itself': 333, 'breast': 334, 'put': 335, 'shadow': 336, 'sad': 337, \"i'll\": 338, 'forth': 339, 'roses': 340, 'straight': 341, \"heart's\": 342, 'set': 343, 'breath': 344, 'virtue': 345, 'bad': 346, 'lips': 347, 'foul': 348, 'swear': 349, 'rose': 350, 'only': 351, 'due': 352, 'despite': 353, \"nature's\": 354, 'having': 355, 'dwell': 356, 'ere': 357, 'shouldst': 358, 'light': 359, 'head': 360, 'under': 361, 'way': 362, 'unless': 363, 'music': 364, 'hear': 365, 'sweets': 366, 'war': 367, \"lov'st\": 368, \"'gainst\": 369, 'green': 370, 'go': 371, 'themselves': 372, 'longer': 373, 'eternal': 374, 'fortune': 375, 'read': 376, 'sometime': 377, 'swift': 378, 'wrong': 379, \"heaven's\": 380, 'dumb': 381, 'writ': 382, 'wit': 383, 'book': 384, 'rest': 385, 'hope': 386, 'blind': 387, 'return': 388, 'wealth': 389, 'precious': 390, 'while': 391, 'enough': 392, 'steal': 393, 'argument': 394, 'heavy': 395, 'dull': 396, 'present': 397, 'side': 398, 'care': 399, 'strange': 400, 'slave': 401, 'been': 402, 'painting': 403, 'taught': 404, 'fears': 405, 'seeing': 406, 'spent': 407, 'sick': 408, 'reason': 409, 'mad': 410, 'fairest': 411, \"world's\": 412, 'ornament': 413, 'spring': 414, 'else': 415, 'tomb': 416, 'calls': 417, 'wrinkles': 418, 'golden': 419, 'spend': 420, 'lend': 421, 'play': 422, 'winter': 423, 'quite': 424, 'left': 425, 'gracious': 426, 'mortal': 427, 'chide': 428, 'shape': 429, 'least': 430, 'fast': 431, 'year': 432, 'gave': 433, 'gift': 434, 'barren': 435, 'hence': 436, 'yours': 437, 'rage': 438, 'stars': 439, 'oft': 440, 'doom': 441, 'date': 442, 'holds': 443, 'shows': 444, 'wish': 445, 'painted': 446, 'keeps': 447, 'graces': 448, 'antique': 449, 'compare': 450, 'short': 451, 'man': 452, 'hue': 453, \"men's\": 454, 'fell': 455, 'purpose': 456, 'truly': 457, 'trust': 458, 'strength': 459, 'speaking': 460, 'wherein': 461, 'done': 462, 'boast': 463, 'buried': 464, 'merit': 465, 'worthy': 466, 'scope': 467, 'moan': 468, 'birth': 469, 'hide': 470, 'base': 471, 'grief': 472, 'sorrow': 473, 'tears': 474, 'canker': 475, 'sweetest': 476, 'needs': 477, 'spite': 478, 'whether': 479, 'subject': 480, 'into': 481, 'invention': 482, 'pain': 483, 'absence': 484, 'kill': 485, 'large': 486, 'water': 487, 'slow': 488, 'motion': 489, 'down': 490, 'says': 491, 'took': 492, 'need': 493, 'cheek': 494, 'worse': 495, 'near': 496, 'flower': 497, 'faith': 498, 'tied': 499, 'rank': 500, 'brain': 501, \"others'\": 502, 'saw': 503, 'grew': 504, 'brand': 505, 'cure': 506, \"mistress'\": 507, \"'will\": 508, \"'will'\": 509, 'angel': 510, 'increase': 511, 'abundance': 512, 'sum': 513, 'count': 514, 'prime': 515, 'single': 516, 'image': 517, 'lends': 518, 'free': 519, 'given': 520, 'unused': 521, 'frame': 522, 'substance': 523, \"death's\": 524, 'worms': 525, 'weary': 526, 'mark': 527, 'song': 528, 'seeming': 529, 'behind': 530, 'grant': 531, 'rude': 532, 'heat': 533, 'beauties': 534, 'here': 535, 'lease': 536, 'pluck': 537, 'methinks': 538, 'evil': 539, 'minutes': 540, 'grows': 541, 'wherefore': 542, 'rhyme': 543, 'inward': 544, 'believe': 545, 'high': 546, 'numbers': 547, 'touches': 548, \"ne'er\": 549, 'buds': 550, 'shade': 551, 'crime': 552, 'young': 553, 'mistress': 554, 'rehearse': 555, 'rare': 556, 'air': 557, 'babe': 558, 'body': 559, 'turns': 560, 'want': 561, 'public': 562, 'forgot': 563, 'bare': 564, 'respect': 565, 'dare': 566, 'toil': 567, \"body's\": 568, 'jewel': 569, 'farther': 570, 'please': 571, 'clouds': 572, 'contented': 573, 'break': 574, 'lack': 575, 'account': 576, 'hearts': 577, 'holy': 578, \"stol'n\": 579, 'appear': 580, \"lov'd\": 581, 'grown': 582, 'sovereign': 583, 'shine': 584, 'hour': 585, 'wound': 586, 'sense': 587, 'thief': 588, 'help': 589, 'report': 590, 'comfort': 591, 'leisure': 592, 'blame': 593, 'taste': 594, 'absent': 595, 'said': 596, \"know'st\": 597, 'gain': 598, 'sleep': 599, 'sea': 600, 'told': 601, 'seek': 602, 'groan': 603, 'judgment': 604, 'appetite': 605, 'morrow': 606, 'former': 607, 'second': 608, 'brass': 609, 'win': 610, 'steel': 611, 'forsworn': 612, 'tongues': 613, 'add': 614, 'smell': 615, 'weeds': 616, 'common': 617, 'lost': 618, 'knowing': 619, 'cheeks': 620, 'story': 621, 'praises': 622, 'above': 623, 'errors': 624, 'lays': 625, 'red': 626, 'over': 627, 'sinful': 628, 'just': 629, 'catch': 630, 'laid': 631, 'bath': 632, 'decease': 633, 'heir': 634, 'flame': 635, 'eat': 636, 'grave': 637, 'weed': 638, 'answer': 639, 'repair': 640, 'posterity': 641, \"mother's\": 642, 'april': 643, 'windows': 644, \"remember'd\": 645, 'abuse': 646, 'audit': 647, 'work': 648, 'confounds': 649, 'effect': 650, \"distill'd\": 651, \"winter's\": 652, 'pay': 653, 'happier': 654, 'conquest': 655, 'lo': 656, 'heavenly': 657, 'son': 658, 'ear': 659, 'husband': 660, 'weep': 661, 'kept': 662, \"belov'd\": 663, 'fairer': 664, \"grow'st\": 665, 'brave': 666, 'among': 667, 'scythe': 668, 'defence': 669, 'takes': 670, 'fall': 671, 'brief': 672, 'rain': 673, 'knowledge': 674, 'constant': 675, 'wouldst': 676, 'nought': 677, 'whereon': 678, 'height': 679, 'wear': 680, 'conceit': 681, 'bloody': 682, 'tyrant': 683, 'means': 684, 'maiden': 685, 'virtuous': 686, 'drawn': 687, \"fill'd\": 688, 'half': 689, 'number': 690, 'shake': 691, 'hot': 692, 'complexion': 693, 'course': 694, 'blunt': 695, 'burn': 696, 'forbid': 697, 'draw': 698, \"woman's\": 699, \"women's\": 700, 'woman': 701, 'wert': 702, 'moon': 703, 'cover': 704, 'bearing': 705, \"gav'st\": 706, \"express'd\": 707, 'therein': 708, 'cunning': 709, 'favour': 710, 'triumph': 711, 'frown': 712, 'fight': 713, 'thousand': 714, \"remov'd\": 715, 'duty': 716, 'witness': 717, 'wanting': 718, 'star': 719, 'haste': 720, 'bed': 721, 'looking': 722, 'blot': 723, 'flatter': 724, 'daily': 725, 'friends': 726, 'almost': 727, 'haply': 728, 'expense': 729, 'survey': 730, 'growing': 731, 'brought': 732, 'style': 733, 'basest': 734, 'ride': 735, 'west': 736, 'alack': 737, 'stain': 738, 'didst': 739, 'bears': 740, 'cross': 741, 'thorns': 742, 'amiss': 743, 'sins': 744, 'fault': 745, 'lawful': 746, 'plea': 747, 'twain': 748, 'remain': 749, 'evermore': 750, \"fortune's\": 751, 'dearest': 752, 'vulgar': 753, 'outlive': 754, 'manners': 755, 'torment': 756, 'greater': 757, 'injury': 758, 'foes': 759, 'pretty': 760, 'because': 761, 'approve': 762, 'losing': 763, 'flattery': 764, 'dark': 765, 'shadows': 766, 'clear': 767, 'flesh': 768, 'matter': 769, 'foot': 770, 'soon': 771, \"assur'd\": 772, \"eye's\": 773, 'picture': 774, 'sure': 775, 'chest': 776, 'whence': 777, 'prize': 778, 'pass': 779, 'greet': 780, 'reasons': 781, 'desert': 782, 'cause': 783, 'teach': 784, 'speed': 785, 'pace': 786, 'tend': 787, 'odour': 788, 'hang': 789, 'gilded': 790, 'stone': 791, 'quick': 792, 'record': 793, 'edge': 794, 'feeding': 795, 'fill': 796, 'ocean': 797, 'shore': 798, 'thrice': 799, 'fool': 800, 'god': 801, 'control': 802, 'doing': 803, 'five': 804, 'character': 805, 'wonder': 806, 'main': 807, \"crown'd\": 808, 'stands': 809, 'mock': 810, 'home': 811, 'elsewhere': 812, 'knife': 813, 'advantage': 814, 'action': 815, 'simple': 816, 'infection': 817, 'lived': 818, 'bastard': 819, \"another's\": 820, 'mend': 821, 'suspect': 822, 'flies': 823, 'mourn': 824, 'vile': 825, 'line': 826, 'thinking': 827, 'birds': 828, 'ground': 829, 'pine': 830, 'eternity': 831, 'acquaintance': 832, 'got': 833, 'double': 834, 'works': 835, 'fame': 836, 'sail': 837, 'anew': 838, \"us'd\": 839, 'silence': 840, 'bonds': 841, 'vow': 842, 'general': 843, 'wretched': 844, \"what's\": 845, 'turn': 846, \"seem'd\": 847, 'despair': 848, 'growth': 849, 'constancy': 850, \"confin'd\": 851, 'boy': 852, \"prov'd\": 853, 'proof': 854, 'receives': 855, 'plague': 856, 'minds': 857, 'taken': 858, 'whereto': 859, 'unkind': 860, 'fingers': 861, 'kiss': 862, \"perjur'd\": 863, 'came': 864, \"'i\": 865, \"hate'\": 866, 'sworn': 867, 'conscience': 868, 'oaths': 869, 'creatures': 870, 'thereby': 871, 'riper': 872, 'contracted': 873, 'bud': 874, 'content': 875, 'churl': 876, \"mak'st\": 877, 'winters': 878, 'besiege': 879, \"tatter'd\": 880, 'small': 881, 'held': 882, 'lusty': 883, \"'this\": 884, 'mother': 885, 'womb': 886, 'husbandry': 887, 'fond': 888, 'stop': 889, 'niggard': 890, 'bounteous': 891, 'usurer': 892, 'deceive': 893, \"th'\": 894, 'gaze': 895, 'leads': 896, 'hideous': 897, 'sap': 898, 'checked': 899, 'bareness': 900, 'pent': 901, 'walls': 902, 'remembrance': 903, 'meet': 904, 'willing': 905, 'breed': 906, 'depart': 907, 'serving': 908, 'sacred': 909, 'majesty': 910, 'steep': 911, 'resembling': 912, 'attending': 913, 'pilgrimage': 914, 'pitch': 915, 'converted': 916, \"unlook'd\": 917, 'delights': 918, \"receiv'st\": 919, 'concord': 920, 'sounds': 921, 'married': 922, 'sweetly': 923, 'mutual': 924, 'pleasing': 925, 'note': 926, 'speechless': 927, 'sings': 928, 'wail': 929, 'widow': 930, 'bosom': 931, 'himself': 932, 'commits': 933, 'deny': 934, \"possess'd\": 935, 'murderous': 936, 'chief': 937, 'presence': 938, 'folly': 939, 'bounty': 940, 'copy': 941, 'clock': 942, 'tells': 943, 'violet': 944, 'lofty': 945, 'canopy': 946, 'borne': 947, 'question': 948, 'wastes': 949, 'forsake': 950, 'coming': 951, 'prepare': 952, 'issue': 953, 'father': 954, 'judgement': 955, 'wind': 956, 'princes': 957, \"'truth\": 958, 'thrive': 959, 'perfection': 960, 'little': 961, 'huge': 962, 'stage': 963, 'influence': 964, 'comment': 965, 'youthful': 966, 'inconstant': 967, 'sets': 968, 'wasteful': 969, 'fortify': 970, 'counterfeit': 971, 'pencil': 972, 'neither': 973, 'deserts': 974, 'poet': 975, 'faces': 976, \"poet's\": 977, 'alive': 978, 'twice': 979, 'winds': 980, 'shines': 981, 'often': 982, 'gold': 983, 'changing': 984, 'fade': 985, 'possession': 986, 'breathe': 987, 'keen': 988, 'fierce': 989, \"liv'd\": 990, 'glad': 991, 'seasons': 992, \"whate'er\": 993, 'fading': 994, 'allow': 995, 'pattern': 996, 'master': 997, 'acquainted': 998, 'fashion': 999, 'theirs': 1000, 'gilding': 1001, 'controlling': 1002, 'souls': 1003, 'created': 1004, 'wrought': 1005, 'doting': 1006, 'addition': 1007, \"fix'd\": 1008, 'slain': 1009, 'beside': 1010, 'replete': 1011, 'forget': 1012, 'perfect': 1013, 'burthen': 1014, 'plead': 1015, 'learn': 1016, 'silent': 1017, 'belongs': 1018, 'fine': 1019, 'painter': 1020, \"bosom's\": 1021, 'bars': 1022, 'remove': 1023, 'strongly': 1024, 'send': 1025, \"soul's\": 1026, 'moving': 1027, 'limbs': 1028, 'travel': 1029, \"tir'd\": 1030, 'journey': 1031, 'abide': 1032, 'eyelids': 1033, 'open': 1034, 'sightless': 1035, 'hung': 1036, 'benefit': 1037, \"oppress'd\": 1038, 'enemies': 1039, \"either's\": 1040, 'reign': 1041, 'hands': 1042, 'torture': 1043, 'off': 1044, 'sorrows': 1045, 'nightly': 1046, 'stronger': 1047, 'cries': 1048, 'curse': 1049, \"man's\": 1050, 'sullen': 1051, 'hymns': 1052, 'brings': 1053, 'scorn': 1054, 'kings': 1055, 'hid': 1056, 'dateless': 1057, 'heavily': 1058, 'supposed': 1059, 'obsequious': 1060, 'interest': 1061, 'lovers': 1062, 'survive': 1063, 'dust': 1064, 'deceased': 1065, 'reserve': 1066, 'vouchsafe': 1067, \"friend's\": 1068, 'dearer': 1069, 'died': 1070, 'poets': 1071, 'morning': 1072, 'mountain': 1073, 'pale': 1074, 'alchemy': 1075, 'anon': 1076, 'stealing': 1077, 'unseen': 1078, 'morn': 1079, 'triumphant': 1080, 'cloud': 1081, \"mask'd\": 1082, 'rotten': 1083, 'salve': 1084, 'physic': 1085, 'weak': 1086, 'ransom': 1087, 'eclipses': 1088, 'trespass': 1089, 'sensual': 1090, 'sourly': 1091, 'robs': 1092, 'kindness': 1093, 'sort': 1094, 'lame': 1095, 'sit': 1096, 'invent': 1097, 'aught': 1098, 'slight': 1099, \"is't\": 1100, 'us': 1101, 'sour': 1102, 'praising': 1103, 'hadst': 1104, \"blam'd\": 1105, 'wilful': 1106, 'robbery': 1107, 'poverty': 1108, 'lascivious': 1109, 'wrongs': 1110, 'liberty': 1111, 'years': 1112, 'temptation': 1113, \"assail'd\": 1114, 'ay': 1115, 'mightst': 1116, 'seat': 1117, 'forbear': 1118, 'lead': 1119, 'ye': 1120, 'lay': 1121, 'wink': 1122, 'unrespected': 1123, 'dreams': 1124, 'clearer': 1125, 'nights': 1126, 'injurious': 1127, 'farthest': 1128, 'nimble': 1129, 'leap': 1130, 'miles': 1131, 'elements': 1132, 'health': 1133, 'title': 1134, 'quest': 1135, 'feast': 1136, 'guest': 1137, 'either': 1138, 'careful': 1139, 'falsehood': 1140, 'jewels': 1141, 'prey': 1142, 'feel': 1143, 'proves': 1144, 'thievish': 1145, 'cast': 1146, \"call'd\": 1147, 'strangely': 1148, 'guard': 1149, 'ease': 1150, 'beast': 1151, 'tired': 1152, 'wretch': 1153, 'spur': 1154, 'offence': 1155, 'horse': 1156, 'towards': 1157, 'point': 1158, 'seldom': 1159, 'captain': 1160, 'special': 1161, 'blest': 1162, \"imprison'd\": 1163, 'lacked': 1164, 'whereof': 1165, 'deaths': 1166, 'powerful': 1167, 'root': 1168, 'force': 1169, 'hungry': 1170, 'perpetual': 1171, 'welcome': 1172, 'watch': 1173, 'bitterness': 1174, 'affairs': 1175, 'thinks': 1176, 'vassal': 1177, 'bound': 1178, 'suffer': 1179, 'patience': 1180, 'bide': 1181, 'check': 1182, 'charter': 1183, 'belong': 1184, 'wait': 1185, \"wh'r\": 1186, 'wits': 1187, 'subjects': 1188, 'goes': 1189, 'confound': 1190, 'feeds': 1191, 'shames': 1192, 'idle': 1193, 'remedy': 1194, 'grounded': 1195, 'antiquity': 1196, \"age's\": 1197, 'king': 1198, 'cost': 1199, 'outworn': 1200, \"raz'd\": 1201, 'soil': 1202, 'ink': 1203, 'cry': 1204, 'sway': 1205, 'lively': 1206, 'veins': 1207, 'last': 1208, 'map': 1209, 'gay': 1210, 'shown': 1211, 'guess': 1212, 'measure': 1213, 'defect': 1214, 'crow': 1215, 'slander': 1216, 'pure': 1217, 'tie': 1218, 'envy': 1219, 'fled': 1220, 'nay': 1221, 'remember': 1222, 'wise': 1223, 'devise': 1224, 'untrue': 1225, 'yellow': 1226, \"ruin'd\": 1227, \"see'st\": 1228, 'bail': 1229, 'showers': 1230, 'peace': 1231, \"'twixt\": 1232, 'doubting': 1233, 'counting': 1234, 'possessing': 1235, 'glance': 1236, 'aside': 1237, 'compounds': 1238, 'noted': 1239, 'word': 1240, 'telling': 1241, 'dial': 1242, 'learning': 1243, 'ignorance': 1244, 'added': 1245, 'aid': 1246, 'pays': 1247, 'humble': 1248, 'saucy': 1249, 'bark': 1250, 'worthless': 1251, 'yield': 1252, 'monument': 1253, 'finding': 1254, 'gross': 1255, 'quill': 1256, 'mute': 1257, 'example': 1258, 'comments': 1259, 'affords': 1260, 'something': 1261, 'spirits': 1262, 'giving': 1263, 'riches': 1264, 'comes': 1265, 'dream': 1266, 'bending': 1267, 'injuries': 1268, 'vantage': 1269, 'desired': 1270, 'walks': 1271, 'beloved': 1272, 'bent': 1273, 'bow': 1274, 'hawks': 1275, 'humour': 1276, 'adjunct': 1277, 'finds': 1278, 'depends': 1279, \"alter'd\": 1280, 'creation': 1281, 'sweetness': 1282, 'excellence': 1283, 'sport': 1284, 'mansion': 1285, \"esteem'd\": 1286, \"deem'd\": 1287, 'betray': 1288, 'autumn': 1289, \"unfather'd\": 1290, \"dy'd\": 1291, 'blushing': 1292, 'esteem': 1293, 'rise': 1294, 'despised': 1295, 'neglect': 1296, 'colour': 1297, 'seems': 1298, \"turn'd\": 1299, 'perfumes': 1300, 'wondrous': 1301, \"'fair\": 1302, 'rime': 1303, 'forfeit': 1304, 'express': 1305, 'divine': 1306, 'bred': 1307, 'frailties': 1308, 'alas': 1309, 'newer': 1310, 'next': 1311, 'guilty': 1312, 'goddess': 1313, 'drink': 1314, 'potions': 1315, 'bitter': 1316, 'strive': 1317, 'objects': 1318, 'palate': 1319, 'vows': 1320, 'alters': 1321, 'shaken': 1322, 'unknown': 1323, 'accuse': 1324, 'level': 1325, 'urge': 1326, 'maladies': 1327, 'shun': 1328, \"diseas'd\": 1329, 'policy': 1330, 'healthful': 1331, 'goodness': 1332, 'hopes': 1333, 'fever': 1334, 'built': 1335, 'unkindness': 1336, 'becomes': 1337, 'feeling': 1338, 'wills': 1339, 'tables': 1340, 'bold': 1341, 'discontent': 1342, 'bore': 1343, 'render': 1344, 'fickle': 1345, \"profan'd\": 1346, 'mourners': 1347, 'becoming': 1348, 'wood': 1349, 'jacks': 1350, 'lust': 1351, 'extreme': 1352, 'sooner': 1353, 'pursuit': 1354, 'wires': 1355, 'sound': 1356, 'belied': 1357, 'disdain': 1358, 'mourning': 1359, 'suit': 1360, 'fulfil': 1361, 'corrupt': 1362, 'vainly': 1363, 'ears': 1364, 'despise': 1365, 'dote': 1366, 'broke': 1367, 'chase': 1368, 'follow': 1369, 'fiend': 1370, 'abhor': 1371, 'cupid': 1372, 'asleep': 1373, \"feed'st\": 1374, \"light's\": 1375, 'substantial': 1376, 'fuel': 1377, 'famine': 1378, 'foe': 1379, 'herald': 1380, 'gaudy': 1381, 'buriest': 1382, 'niggarding': 1383, 'glutton': 1384, 'forty': 1385, 'dig': 1386, 'trenches': 1387, 'field': 1388, \"youth's\": 1389, 'livery': 1390, 'gazed': 1391, 'asked': 1392, 'sunken': 1393, 'eating': 1394, 'thriftless': 1395, \"deserv'd\": 1396, 'couldst': 1397, 'proving': 1398, 'succession': 1399, 'warm': 1400, \"feel'st\": 1401, 'viewest': 1402, 'renewest': 1403, 'beguile': 1404, 'unbless': 1405, \"unear'd\": 1406, 'disdains': 1407, 'tillage': 1408, 'dies': 1409, 'unthrifty': 1410, 'loveliness': 1411, 'legacy': 1412, 'bequest': 1413, 'frank': 1414, 'largess': 1415, 'profitless': 1416, 'sums': 1417, 'traffic': 1418, 'acceptable': 1419, 'tombed': 1420, 'used': 1421, 'executor': 1422, 'tyrants': 1423, 'unfair': 1424, 'fairly': 1425, 'excel': 1426, 'resting': 1427, 'frost': 1428, 'snowed': 1429, 'distillation': 1430, 'liquid': 1431, 'prisoner': 1432, 'bereft': 1433, 'leese': 1434, 'ragged': 1435, 'deface': 1436, 'vial': 1437, \"kill'd\": 1438, 'forbidden': 1439, 'usury': 1440, 'happies': 1441, 'loan': 1442, \"that's\": 1443, \"refigur'd\": 1444, 'leaving': 1445, \"will'd\": 1446, 'orient': 1447, 'lifts': 1448, 'burning': 1449, 'homage': 1450, 'appearing': 1451, \"climb'd\": 1452, 'hill': 1453, 'middle': 1454, 'adore': 1455, 'highmost': 1456, 'car': 1457, 'feeble': 1458, 'reeleth': 1459, \"'fore\": 1460, 'duteous': 1461, 'low': 1462, 'tract': 1463, 'outgoing': 1464, 'noon': 1465, 'diest': 1466, 'get': 1467, \"hear'st\": 1468, 'sadly': 1469, 'gladly': 1470, 'annoy': 1471, 'tuned': 1472, 'unions': 1473, 'offend': 1474, 'singleness': 1475, 'string': 1476, 'strikes': 1477, 'ordering': 1478, 'sire': 1479, \"'thou\": 1480, 'wet': 1481, \"widow's\": 1482, \"consum'st\": 1483, 'issueless': 1484, 'hap': 1485, 'makeless': 1486, 'wife': 1487, 'private': 1488, \"children's\": 1489, \"husband's\": 1490, 'unthrift': 1491, 'shifts': 1492, 'enjoys': 1493, 'user': 1494, 'destroys': 1495, 'toward': 1496, 'sits': 1497, \"murd'rous\": 1498, \"bear'st\": 1499, 'unprovident': 1500, 'evident': 1501, \"stick'st\": 1502, 'conspire': 1503, 'seeking': 1504, 'roof': 1505, 'ruinate': 1506, \"lodg'd\": 1507, 'hearted': 1508, 'wane': 1509, 'departest': 1510, 'youngly': 1511, \"bestow'st\": 1512, 'convertest': 1513, 'herein': 1514, 'wisdom': 1515, 'minded': 1516, 'cease': 1517, 'threescore': 1518, 'harsh': 1519, 'featureless': 1520, 'barrenly': 1521, 'perish': 1522, \"endow'd\": 1523, 'cherish': 1524, \"carv'd\": 1525, 'seal': 1526, 'meant': 1527, 'print': 1528, 'sunk': 1529, 'sable': 1530, 'curls': 1531, 'silvered': 1532, 'trees': 1533, 'erst': 1534, 'herd': 1535, 'girded': 1536, 'sheaves': 1537, 'bier': 1538, 'bristly': 1539, 'beard': 1540, 'semblance': 1541, 'determination': 1542, \"yourself's\": 1543, 'lets': 1544, 'house': 1545, 'uphold': 1546, 'stormy': 1547, 'gusts': 1548, 'unthrifts': 1549, 'astronomy': 1550, 'luck': 1551, 'plagues': 1552, 'dearths': 1553, \"seasons'\": 1554, 'quality': 1555, 'pointing': 1556, 'thunder': 1557, 'predict': 1558, 'derive': 1559, 'together': 1560, \"convert'\": 1561, 'prognosticate': 1562, \"'thy\": 1563, \"truth's\": 1564, 'consider': 1565, 'moment': 1566, 'presenteth': 1567, 'secret': 1568, 'perceive': 1569, 'plants': 1570, 'cheered': 1571, 'sky': 1572, 'vaunt': 1573, 'decrease': 1574, 'debateth': 1575, 'sullied': 1576, 'engraft': 1577, 'mightier': 1578, 'top': 1579, 'gardens': 1580, 'unset': 1581, 'liker': 1582, 'pupil': 1583, 'hides': 1584, \"touch'd\": 1585, 'earthly': 1586, 'papers': 1587, \"yellow'd\": 1588, \"scorn'd\": 1589, 'rights': 1590, \"term'd\": 1591, 'stretched': 1592, 'metre': 1593, 'temperate': 1594, 'rough': 1595, 'darling': 1596, \"dimm'd\": 1597, 'declines': 1598, 'chance': 1599, \"untrimm'd\": 1600, \"ow'st\": 1601, 'brag': 1602, \"wander'st\": 1603, 'devouring': 1604, \"lion's\": 1605, 'paws': 1606, 'devour': 1607, 'brood': 1608, 'teeth': 1609, \"tiger's\": 1610, 'jaws': 1611, 'phoenix': 1612, 'sorry': 1613, 'fleets': 1614, 'footed': 1615, 'heinous': 1616, 'carve': 1617, 'untainted': 1618, 'succeeding': 1619, 'passion': 1620, 'shifting': 1621, 'rolling': 1622, 'object': 1623, 'whereupon': 1624, 'gazeth': 1625, \"'hues'\": 1626, 'steals': 1627, 'amazeth': 1628, 'defeated': 1629, 'adding': 1630, \"prick'd\": 1631, \"stirr'd\": 1632, 'couplement': 1633, \"compare'\": 1634, \"sea's\": 1635, 'gems': 1636, \"april's\": 1637, 'rondure': 1638, 'hems': 1639, 'candles': 1640, 'hearsay': 1641, 'sell': 1642, 'persuade': 1643, 'furrows': 1644, 'expiate': 1645, 'seemly': 1646, 'raiment': 1647, 'elder': 1648, 'wary': 1649, 'chary': 1650, 'nurse': 1651, 'faring': 1652, 'presume': 1653, 'th': 1654, 'unperfect': 1655, 'actor': 1656, \"strength's\": 1657, 'weakens': 1658, 'ceremony': 1659, 'rite': 1660, \"o'ercharg'd\": 1661, 'eloquence': 1662, 'presagers': 1663, 'recompense': 1664, \"play'd\": 1665, \"stell'd\": 1666, 'table': 1667, 'perspective': 1668, \"painter's\": 1669, \"pictur'd\": 1670, 'shop': 1671, 'hanging': 1672, 'glazed': 1673, 'peep': 1674, 'titles': 1675, \"princes'\": 1676, 'favourites': 1677, 'spread': 1678, 'marigold': 1679, \"sun's\": 1680, 'painful': 1681, 'warrior': 1682, 'famoused': 1683, 'victories': 1684, \"foil'd\": 1685, 'razed': 1686, \"toil'd\": 1687, 'lord': 1688, 'vassalage': 1689, 'knit': 1690, 'written': 1691, 'embassage': 1692, 'naked': 1693, 'bestow': 1694, 'whatsoever': 1695, 'guides': 1696, 'points': 1697, 'graciously': 1698, 'aspect': 1699, 'puts': 1700, 'apparel': 1701, 'respose': 1702, 'begins': 1703, \"work's\": 1704, 'expired': 1705, 'intend': 1706, 'zealous': 1707, 'drooping': 1708, 'darkness': 1709, 'imaginary': 1710, 'presents': 1711, 'ghastly': 1712, 'quiet': 1713, 'plight': 1714, \"debarre'd\": 1715, \"day's\": 1716, 'oppression': 1717, \"eas'd\": 1718, 'consent': 1719, 'complain': 1720, 'swart': 1721, \"complexion'd\": 1722, 'sparkling': 1723, 'twire': 1724, \"gild'st\": 1725, \"grief's\": 1726, 'length': 1727, 'beweep': 1728, 'outcast': 1729, 'trouble': 1730, 'deaf': 1731, 'bootless': 1732, 'fate': 1733, 'wishing': 1734, \"featur'd\": 1735, 'desiring': 1736, 'enjoy': 1737, 'despising': 1738, 'lark': 1739, 'arising': 1740, 'gate': 1741, 'sessions': 1742, 'summon': 1743, 'sigh': 1744, 'sought': 1745, 'woes': 1746, 'drown': 1747, 'flow': 1748, 'afresh': 1749, \"cancell'd\": 1750, \"vanish'd\": 1751, 'grieve': 1752, 'grievances': 1753, 'foregone': 1754, 'fore': 1755, 'bemoaned': 1756, 'paid': 1757, 'losses': 1758, \"restor'd\": 1759, 'endeared': 1760, 'lacking': 1761, 'reigns': 1762, 'tear': 1763, 'religious': 1764, 'hidden': 1765, 'trophies': 1766, 'images': 1767, 'bones': 1768, 're': 1769, 'lover': 1770, \"bett'ring\": 1771, \"outstripp'd\": 1772, 'exceeded': 1773, \"'had\": 1774, 'march': 1775, 'ranks': 1776, 'equipage': 1777, \"love'\": 1778, 'glorious': 1779, 'tops': 1780, 'kissing': 1781, 'meadows': 1782, 'streams': 1783, 'permit': 1784, 'ugly': 1785, 'rack': 1786, 'celestial': 1787, 'forlorn': 1788, 'visage': 1789, 'early': 1790, 'splendour': 1791, 'region': 1792, 'whit': 1793, 'disdaineth': 1794, 'suns': 1795, 'staineth': 1796, 'promise': 1797, 'cloak': 1798, \"o'ertake\": 1799, 'hiding': 1800, 'bravery': 1801, 'smoke': 1802, 'dry': 1803, 'storm': 1804, 'beaten': 1805, 'heals': 1806, 'cures': 1807, 'repent': 1808, \"offender's\": 1809, 'relief': 1810, \"offence's\": 1811, 'pearl': 1812, 'sheds': 1813, \"griev'd\": 1814, 'silver': 1815, 'fountains': 1816, 'mud': 1817, 'loathsome': 1818, 'authorizing': 1819, 'corrupting': 1820, 'salving': 1821, 'excusing': 1822, 'adverse': 1823, 'party': 1824, 'advocate': 1825, 'commence': 1826, 'civil': 1827, 'accessary': 1828, 'confess': 1829, 'undivided': 1830, 'blots': 1831, 'separable': 1832, 'alter': 1833, 'sole': 1834, 'acknowledge': 1835, 'bewailed': 1836, 'guilt': 1837, 'decrepit': 1838, 'active': 1839, 'entitled': 1840, 'crowned': 1841, 'engrafted': 1842, \"despis'd\": 1843, \"suffic'd\": 1844, \"pour'st\": 1845, 'excellent': 1846, 'paper': 1847, 'thanks': 1848, 'perusal': 1849, \"who's\": 1850, 'tenth': 1851, 'nine': 1852, 'rhymers': 1853, 'invocate': 1854, 'curious': 1855, 'divided': 1856, 'separation': 1857, \"deserv'st\": 1858, 'entertain': 1859, 'teachest': 1860, 'yea': 1861, 'receivest': 1862, 'usest': 1863, 'deceivest': 1864, 'refusest': 1865, 'forgive': 1866, \"hate's\": 1867, 'known': 1868, 'spites': 1869, 'befits': 1870, 'follows': 1871, 'won': 1872, 'woos': 1873, \"prevail'd\": 1874, 'straying': 1875, 'riot': 1876, 'forced': 1877, 'twofold': 1878, 'hers': 1879, 'tempting': 1880, 'loved': 1881, 'dearly': 1882, 'wailing': 1883, 'nearly': 1884, 'offenders': 1885, 'suffering': 1886, \"here's\": 1887, 'darkly': 1888, 'directed': 1889, \"shadow's\": 1890, 'unseeing': 1891, 'imperfect': 1892, 'distance': 1893, 'space': 1894, 'limits': 1895, 'remote': 1896, 'jump': 1897, 'land': 1898, 'kills': 1899, 'lengths': 1900, 'attend': 1901, 'receiving': 1902, 'badges': 1903, 'purging': 1904, 'wherever': 1905, 'slide': 1906, 'quicker': 1907, 'embassy': 1908, 'four': 1909, 'sinks': 1910, 'melancholy': 1911, 'until': 1912, \"life's\": 1913, 'composition': 1914, \"recur'd\": 1915, 'messengers': 1916, \"return'd\": 1917, 'recounting': 1918, 'divide': 1919, \"picture's\": 1920, 'bar': 1921, 'freedom': 1922, 'closet': 1923, \"pierc'd\": 1924, 'crystal': 1925, 'defendant': 1926, 'appearance': 1927, 'impannelled': 1928, 'tenants': 1929, 'verdict': 1930, 'determined': 1931, 'moiety': 1932, 'betwixt': 1933, 'league': 1934, 'unto': 1935, \"famish'd\": 1936, 'sighs': 1937, 'smother': 1938, 'banquet': 1939, 'bids': 1940, 'share': 1941, 'move': 1942, 'awakes': 1943, 'trifle': 1944, 'truest': 1945, 'thrust': 1946, 'wards': 1947, 'trifles': 1948, 'greatest': 1949, \"lock'd\": 1950, 'closure': 1951, 'defects': 1952, 'utmost': 1953, \"advis'd\": 1954, 'respects': 1955, 'scarcely': 1956, 'settled': 1957, 'gravity': 1958, 'ensconce': 1959, 'uprear': 1960, 'laws': 1961, 'allege': 1962, \"travel's\": 1963, 'repose': 1964, \"'thus\": 1965, 'measured': 1966, 'plods': 1967, 'dully': 1968, 'weight': 1969, 'instinct': 1970, 'rider': 1971, 'provoke': 1972, 'sometimes': 1973, 'anger': 1974, 'thrusts': 1975, 'answers': 1976, 'sharp': 1977, 'spurring': 1978, 'onward': 1979, 'bearer': 1980, 'posting': 1981, 'extremity': 1982, 'mounted': 1983, 'winged': 1984, 'n': 1985, \"perfect'st\": 1986, 'neigh': 1987, 'fiery': 1988, 'race': 1989, 'jade': 1990, \"'since\": 1991, 'going': 1992, 'went': 1993, 'run': 1994, 'key': 1995, 'locked': 1996, 'blunting': 1997, 'feasts': 1998, 'solemn': 1999, 'stones': 2000, 'thinly': 2001, 'placed': 2002, 'carcanet': 2003, 'wardrobe': 2004, 'robe': 2005, 'instant': 2006, 'unfolding': 2007, 'worthiness': 2008, 'millions': 2009, 'describe': 2010, 'adonis': 2011, 'poorly': 2012, 'imitated': 2013, \"helen's\": 2014, 'grecian': 2015, 'tires': 2016, 'foison': 2017, 'external': 2018, 'deem': 2019, 'blooms': 2020, 'dye': 2021, 'perfumed': 2022, 'tincture': 2023, 'wantonly': 2024, 'masked': 2025, 'discloses': 2026, \"unwoo'd\": 2027, 'odours': 2028, 'vade': 2029, 'distills': 2030, 'marble': 2031, 'monuments': 2032, 'contents': 2033, 'unswept': 2034, \"besmear'd\": 2035, 'sluttish': 2036, 'statues': 2037, 'overturn': 2038, 'broils': 2039, 'masonry': 2040, 'mars': 2041, 'sword': 2042, \"war's\": 2043, 'oblivious': 2044, 'enmity': 2045, 'room': 2046, 'ending': 2047, 'arise': 2048, \"lovers'\": 2049, 'renew': 2050, 'blunter': 2051, \"allay'd\": 2052, 'sharpened': 2053, 'fulness': 2054, 'dulness': 2055, 'interim': 2056, 'banks': 2057, 'wished': 2058, 'services': 2059, 'require': 2060, 'bid': 2061, 'servant': 2062, 'adieu': 2063, 'jealous': 2064, 'suppose': 2065, 'anything': 2066, 'crave': 2067, 'beck': 2068, 'tame': 2069, 'sufferance': 2070, 'accusing': 2071, 'list': 2072, 'privilage': 2073, 'pardon': 2074, 'waiting': 2075, 'brains': 2076, \"beguil'd\": 2077, 'labouring': 2078, 'backward': 2079, 'hundred': 2080, 'courses': 2081, 'composed': 2082, 'mended': 2083, 'revolution': 2084, 'admiring': 2085, 'waves': 2086, 'pebbled': 2087, 'hasten': 2088, 'sequent': 2089, 'forwards': 2090, 'contend': 2091, 'nativity': 2092, 'crawls': 2093, 'maturity': 2094, 'wherewith': 2095, 'crooked': 2096, 'transfix': 2097, 'flourish': 2098, 'delves': 2099, 'parallels': 2100, 'rarities': 2101, 'mow': 2102, 'slumbers': 2103, 'broken': 2104, \"send'st\": 2105, 'pry': 2106, 'tenure': 2107, 'jealousy': 2108, 'awake': 2109, 'defeat': 2110, 'watchman': 2111, 'wake': 2112, 'possesseth': 2113, 'define': 2114, 'worths': 2115, 'surmount': 2116, 'indeed': 2117, 'beated': 2118, \"chopp'd\": 2119, 'tanned': 2120, 'contrary': 2121, 'iniquity': 2122, \"crush'd\": 2123, \"o'erworn\": 2124, \"drain'd\": 2125, \"travell'd\": 2126, 'steepy': 2127, \"he's\": 2128, 'vanishing': 2129, 'vanished': 2130, 'confounding': 2131, 'cut': 2132, \"lover's\": 2133, \"defac'd\": 2134, 'towers': 2135, 'kingdom': 2136, 'firm': 2137, 'watery': 2138, 'increasing': 2139, 'interchange': 2140, 'confounded': 2141, 'ruin': 2142, 'ruminate': 2143, 'choose': 2144, 'boundless': 2145, 'mortality': 2146, \"o'ersways\": 2147, 'honey': 2148, 'wrackful': 2149, 'siege': 2150, 'battering': 2151, 'rocks': 2152, 'impregnable': 2153, 'stout': 2154, 'gates': 2155, 'decays': 2156, 'fearful': 2157, 'meditation': 2158, 'spoil': 2159, 'miracle': 2160, 'restful': 2161, 'beggar': 2162, 'needy': 2163, \"trimm'd\": 2164, 'jollity': 2165, 'purest': 2166, 'unhappily': 2167, 'shamefully': 2168, \"misplac'd\": 2169, 'rudely': 2170, 'strumpeted': 2171, 'wrongfully': 2172, \"disgrac'd\": 2173, 'limping': 2174, 'disabled': 2175, 'authority': 2176, 'doctor': 2177, \"miscall'd\": 2178, 'simplicity': 2179, 'captive': 2180, 'impiety': 2181, 'achieve': 2182, 'lace': 2183, 'society': 2184, 'imitate': 2185, 'indirectly': 2186, 'bankrupt': 2187, \"beggar'd\": 2188, 'blush': 2189, 'exchequer': 2190, 'gains': 2191, 'stores': 2192, 'signs': 2193, 'durst': 2194, 'inhabit': 2195, 'tresses': 2196, 'sepulchres': 2197, 'shorn': 2198, 'fleece': 2199, 'robbing': 2200, 'dress': 2201, 'yore': 2202, 'voice': 2203, 'uttering': 2204, 'commend': 2205, 'accents': 2206, 'churls': 2207, 'matcheth': 2208, \"slander's\": 2209, \"woo'd\": 2210, 'vice': 2211, \"present'st\": 2212, 'unstained': 2213, 'passed': 2214, 'ambush': 2215, 'victor': 2216, \"charg'd\": 2217, \"enlarg'd\": 2218, 'kingdoms': 2219, 'owe': 2220, 'surly': 2221, 'bell': 2222, 'warning': 2223, 'vilest': 2224, 'perhaps': 2225, 'compounded': 2226, 'clay': 2227, 'task': 2228, 'recite': 2229, 'willingly': 2230, 'impart': 2231, 'shamed': 2232, 'few': 2233, 'boughs': 2234, 'choirs': 2235, 'late': 2236, 'sang': 2237, 'twilight': 2238, 'sunset': 2239, 'fadeth': 2240, 'seals': 2241, 'glowing': 2242, 'ashes': 2243, 'expire': 2244, \"consum'd\": 2245, \"nourish'd\": 2246, \"perceiv'st\": 2247, 'arrest': 2248, 'carry': 2249, 'memorial': 2250, 'reviewest': 2251, 'review': 2252, 'consecrate': 2253, 'dregs': 2254, 'coward': 2255, \"wretch's\": 2256, 'remembered': 2257, 'contains': 2258, 'remains': 2259, 'food': 2260, \"season'd\": 2261, 'strife': 2262, 'miser': 2263, 'enjoyer': 2264, 'filching': 2265, \"better'd\": 2266, 'feasting': 2267, 'clean': 2268, 'starved': 2269, 'pursuing': 2270, 'surfeit': 2271, 'gluttoning': 2272, 'variation': 2273, 'methods': 2274, 'showing': 2275, 'proceed': 2276, 'always': 2277, 'dressing': 2278, 'spending': 2279, 'already': 2280, 'vacant': 2281, \"mind's\": 2282, 'imprint': 2283, 'mouthed': 2284, 'graves': 2285, \"dial's\": 2286, 'shady': 2287, 'stealth': 2288, 'progress': 2289, 'contain': 2290, 'commit': 2291, 'blanks': 2292, 'children': 2293, 'nursed': 2294, \"deliver'd\": 2295, 'offices': 2296, 'profit': 2297, 'enrich': 2298, 'invoked': 2299, 'assistance': 2300, 'alien': 2301, 'poesy': 2302, 'disperse': 2303, 'aloft': 2304, 'fly': 2305, 'feathers': 2306, \"learned's\": 2307, 'wing': 2308, 'compile': 2309, 'arts': 2310, 'graced': 2311, 'advance': 2312, \"decay'd\": 2313, 'deserves': 2314, 'travail': 2315, 'worthier': 2316, 'stole': 2317, 'behaviour': 2318, 'afford': 2319, 'thank': 2320, 'owes': 2321, 'faint': 2322, 'thereof': 2323, 'spends': 2324, 'proudest': 2325, 'inferior': 2326, 'broad': 2327, 'wilfully': 2328, 'shallowest': 2329, 'afloat': 2330, 'soundless': 2331, \"wrack'd\": 2332, 'boat': 2333, 'tall': 2334, 'building': 2335, 'goodly': 2336, 'epitaph': 2337, 'forgotten': 2338, 'immortal': 2339, 'entombed': 2340, 'breathers': 2341, 'breathes': 2342, 'mouths': 2343, 'attaint': 2344, \"o'erlook\": 2345, 'dedicated': 2346, 'writers': 2347, 'blessing': 2348, 'limit': 2349, 'enforced': 2350, 'fresher': 2351, 'stamp': 2352, 'bettering': 2353, \"devis'd\": 2354, 'strained': 2355, 'rhetoric': 2356, \"sympathiz'd\": 2357, 'plain': 2358, \"abus'd\": 2359, 'exceed': 2360, 'debt': 2361, 'slept': 2362, 'extant': 2363, 'modern': 2364, 'impute': 2365, 'impair': 2366, 'confine': 2367, 'immured': 2368, 'equal': 2369, 'lean': 2370, 'penury': 2371, 'writes': 2372, 'dignifies': 2373, 'counterpart': 2374, 'admired': 2375, 'blessings': 2376, 'richly': 2377, \"compil'd\": 2378, 'phrase': 2379, 'muses': 2380, \"fil'd\": 2381, 'unlettered': 2382, 'clerk': 2383, \"'amen'\": 2384, 'hymn': 2385, 'able': 2386, \"polish'd\": 2387, 'refined': 2388, 'hearing': 2389, 'praised': 2390, \"''tis\": 2391, 'hindmost': 2392, 'ripe': 2393, 'inhearse': 2394, 'struck': 2395, 'compeers': 2396, 'astonished': 2397, 'affable': 2398, 'familiar': 2399, 'ghost': 2400, 'gulls': 2401, 'intelligence': 2402, 'victors': 2403, 'countenance': 2404, 'enfeebled': 2405, 'farewell': 2406, 'estimate': 2407, 'releasing': 2408, 'determinate': 2409, 'granting': 2410, 'deserving': 2411, 'patent': 2412, 'swerving': 2413, 'mistaking': 2414, 'misprision': 2415, 'waking': 2416, \"dispos'd\": 2417, 'weakness': 2418, \"conceal'd\": 2419, 'attainted': 2420, 'gainer': 2421, 'lameness': 2422, 'halt': 2423, 'strangle': 2424, 'profane': 2425, 'debate': 2426, 'join': 2427, 'drop': 2428, \"'scap'd\": 2429, 'rearward': 2430, \"conquer'd\": 2431, 'windy': 2432, 'rainy': 2433, 'linger': 2434, \"purpos'd\": 2435, 'overthrow': 2436, 'petty': 2437, 'griefs': 2438, 'onset': 2439, 'strains': 2440, \"compar'd\": 2441, 'garments': 2442, 'fangled': 2443, 'hounds': 2444, 'particulars': 2445, 'richer': 2446, 'prouder': 2447, \"garments'\": 2448, 'costs': 2449, 'horses': 2450, 'wretchcd': 2451, 'term': 2452, 'assured': 2453, 'depend': 2454, 'vex': 2455, 'revolt': 2456, 'supposing': 2457, 'deceived': 2458, 'hatred': 2459, \"many's\": 2460, 'history': 2461, 'moods': 2462, 'frowns': 2463, 'decree': 2464, 'workings': 2465, \"eve's\": 2466, 'apple': 2467, 'hurt': 2468, 'unmoved': 2469, 'rightly': 2470, 'inherit': 2471, 'lords': 2472, 'owners': 2473, 'stewards': 2474, 'outbraves': 2475, 'dignity': 2476, 'sourest': 2477, 'lilies': 2478, 'fester': 2479, 'fragrant': 2480, 'spot': 2481, 'budding': 2482, 'enclose': 2483, 'dispraise': 2484, 'naming': 2485, 'blesses': 2486, 'vices': 2487, 'habitation': 2488, 'chose': 2489, 'veil': 2490, 'heed': 2491, 'privilege': 2492, 'hardest': 2493, 'wantonness': 2494, 'resort': 2495, 'finger': 2496, 'throned': 2497, 'queen': 2498, 'truths': 2499, 'translated': 2500, 'lambs': 2501, 'stern': 2502, 'wolf': 2503, 'lamb': 2504, 'translate': 2505, 'gazers': 2506, 'fleeting': 2507, 'freezings': 2508, 'felt': 2509, \"december's\": 2510, 'everywhere': 2511, 'removed': 2512, 'teeming': 2513, 'big': 2514, 'wanton': 2515, 'burden': 2516, \"widow'd\": 2517, 'wombs': 2518, \"lords'\": 2519, 'abundant': 2520, 'orphans': 2521, 'fruit': 2522, 'pleasures': 2523, 'cheer': 2524, 'dreading': 2525, 'pied': 2526, \"dress'd\": 2527, 'trim': 2528, 'saturn': 2529, \"laugh'd\": 2530, \"leap'd\": 2531, 'different': 2532, 'lap': 2533, \"lily's\": 2534, 'vermilion': 2535, 'figures': 2536, 'forward': 2537, 'smells': 2538, 'purple': 2539, 'soft': 2540, 'dwells': 2541, 'grossly': 2542, 'lily': 2543, 'condemned': 2544, 'marjoram': 2545, 'hair': 2546, 'fearfully': 2547, 'third': 2548, \"annex'd\": 2549, 'theft': 2550, 'vengeful': 2551, \"forget'st\": 2552, \"spend'st\": 2553, 'fury': 2554, 'darkening': 2555, 'forgetful': 2556, 'redeem': 2557, 'idly': 2558, 'resty': 2559, 'wrinkle': 2560, 'graven': 2561, 'satire': 2562, 'spoils': 2563, 'faster': 2564, 'truant': 2565, 'amends': 2566, 'dignified': 2567, \"intermix'd'\": 2568, \"for't\": 2569, \"prais'd\": 2570, 'ages': 2571, 'office': 2572, \"strengthen'd\": 2573, \"merchandiz'd\": 2574, 'esteeming': 2575, \"owner's\": 2576, 'publish': 2577, 'wont': 2578, 'philomel': 2579, 'front': 2580, 'stops': 2581, 'pipe': 2582, 'pleasant': 2583, 'mournful': 2584, 'hush': 2585, 'wild': 2586, 'burthens': 2587, 'bough': 2588, 'appears': 2589, 'dulling': 2590, 'striving': 2591, 'mar': 2592, 'verses': 2593, 'gifts': 2594, \"ey'd\": 2595, 'forests': 2596, 'shook': 2597, \"summers'\": 2598, 'springs': 2599, 'process': 2600, 'junes': 2601, \"burn'd\": 2602, 'figure': 2603, \"perceiv'd\": 2604, \"deceiv'd\": 2605, 'unbred': 2606, 'idolatry': 2607, 'idol': 2608, 'alike': 2609, 'songs': 2610, 'expressing': 2611, 'difference': 2612, 'varying': 2613, 'themes': 2614, 'chronicle': 2615, 'wasted': 2616, 'descriptions': 2617, 'wights': 2618, 'beautiful': 2619, 'ladies': 2620, 'knights': 2621, 'blazon': 2622, 'lip': 2623, 'prophecies': 2624, 'prefiguring': 2625, 'looked': 2626, 'divining': 2627, 'prophetic': 2628, 'dreaming': 2629, 'eclipse': 2630, \"endur'd\": 2631, 'augurs': 2632, 'presage': 2633, 'incertainties': 2634, 'crown': 2635, 'proclaims': 2636, 'olives': 2637, 'endless': 2638, 'drops': 2639, 'balmy': 2640, 'subscribes': 2641, 'insults': 2642, 'tribes': 2643, \"tyrants'\": 2644, 'crests': 2645, 'tombs': 2646, \"figur'd\": 2647, 'register': 2648, 'prayers': 2649, \"hallow'd\": 2650, 'case': 2651, 'weighs': 2652, 'necessary': 2653, 'aye': 2654, 'page': 2655, 'qualify': 2656, 'easy': 2657, \"rang'd\": 2658, 'travels': 2659, \"exchang'd\": 2660, \"reign'd\": 2661, 'kinds': 2662, 'preposterously': 2663, \"stain'd\": 2664, 'universe': 2665, 'motley': 2666, \"gor'd\": 2667, 'sold': 2668, 'cheap': 2669, 'offences': 2670, 'affections': 2671, \"look'd\": 2672, 'askance': 2673, 'blenches': 2674, 'essays': 2675, 'grind': 2676, 'try': 2677, 'older': 2678, 'harmful': 2679, 'provide': 2680, 'breeds': 2681, \"subdu'd\": 2682, \"dyer's\": 2683, \"renew'd\": 2684, 'patient': 2685, 'eisel': 2686, 'penance': 2687, 'correct': 2688, 'correction': 2689, 'assure': 2690, 'impression': 2691, 'scandal': 2692, \"stamp'd\": 2693, \"steel'd\": 2694, 'changes': 2695, 'profound': 2696, 'abysm': 2697, 'throw': 2698, 'voices': 2699, \"adder's\": 2700, 'critic': 2701, 'flatterer': 2702, 'stopped': 2703, 'dispense': 2704, 'besides': 2705, 'governs': 2706, 'about': 2707, 'function': 2708, 'partly': 2709, 'effectually': 2710, 'delivers': 2711, 'bird': 2712, 'latch': 2713, 'vision': 2714, \"rud'st\": 2715, 'gentlest': 2716, \"deformed'st\": 2717, 'creature': 2718, 'dove': 2719, 'shapes': 2720, 'feature': 2721, 'incapable': 2722, 'maketh': 2723, \"monarch's\": 2724, 'saith': 2725, 'monsters': 2726, 'indigest': 2727, 'cherubins': 2728, 'resemble': 2729, 'creating': 2730, 'beams': 2731, 'assemble': 2732, 'kingly': 2733, 'drinks': 2734, 'gust': 2735, \"'greeing\": 2736, 'cup': 2737, \"poison'd\": 2738, 'lesser': 2739, 'begin': 2740, 'knew': 2741, 'afterwards': 2742, 'reckoning': 2743, \"million'd\": 2744, 'accidents': 2745, 'creep': 2746, 'decrees': 2747, 'tan': 2748, \"sharp'st\": 2749, 'intents': 2750, 'divert': 2751, 'altering': 2752, 'fearing': 2753, 'tyranny': 2754, \"'now\": 2755, 'certain': 2756, 'incertainty': 2757, 'crowning': 2758, 'marriage': 2759, 'admit': 2760, 'impediments': 2761, 'alteration': 2762, 'bends': 2763, 'remover': 2764, 'fixed': 2765, 'tempests': 2766, 'wandering': 2767, \"worth's\": 2768, 'rosy': 2769, \"sickle's\": 2770, 'compass': 2771, 'weeks': 2772, 'error': 2773, 'scanted': 2774, 'repay': 2775, 'frequent': 2776, \"purchas'd\": 2777, 'hoisted': 2778, 'transport': 2779, 'wilfulness': 2780, 'surmise': 2781, 'accumulate': 2782, 'shoot': 2783, \"waken'd\": 2784, 'appeal': 2785, 'eager': 2786, 'prevent': 2787, 'sicken': 2788, 'sickness': 2789, 'purge': 2790, 'cloying': 2791, 'sauces': 2792, 'welfare': 2793, 'meetness': 2794, 'needing': 2795, 'anticipate': 2796, 'ills': 2797, 'medicine': 2798, \"cur'd\": 2799, 'lesson': 2800, 'drugs': 2801, 'poison': 2802, 'drunk': 2803, 'siren': 2804, 'limbecks': 2805, 'applying': 2806, 'committed': 2807, 'spheres': 2808, 'fitted': 2809, 'distraction': 2810, 'madding': 2811, \"rebuk'd\": 2812, 'befriends': 2813, 'transgression': 2814, 'nerves': 2815, \"hammer'd\": 2816, \"you've\": 2817, \"pass'd\": 2818, 'weigh': 2819, \"suffer'd\": 2820, 'deepest': 2821, 'hard': 2822, 'hits': 2823, \"tender'd\": 2824, 'wounded': 2825, 'bosoms': 2826, 'fits': 2827, 'fee': 2828, 'ransoms': 2829, 'reproach': 2830, 'adulterate': 2831, 'salutation': 2832, 'sportive': 2833, 'frailer': 2834, 'spies': 2835, 'abuses': 2836, 'reckon': 2837, 'bevel': 2838, 'maintain': 2839, 'badness': 2840, \"character'd\": 2841, 'lasting': 2842, 'beyond': 2843, 'faculty': 2844, 'subsist': 2845, 'oblivion': 2846, \"miss'd\": 2847, 'retention': 2848, 'tallies': 2849, 'score': 2850, 'receive': 2851, 'import': 2852, 'forgetfulness': 2853, 'pyramids': 2854, 'novel': 2855, 'dressings': 2856, 'dates': 2857, 'admire': 2858, 'foist': 2859, 'rather': 2860, 'heard': 2861, 'registers': 2862, 'defy': 2863, 'wondering': 2864, 'records': 2865, 'continual': 2866, \"gather'd\": 2867, 'builded': 2868, 'accident': 2869, 'suffers': 2870, 'smiling': 2871, 'pomp': 2872, 'falls': 2873, 'blow': 2874, 'thralled': 2875, 'inviting': 2876, 'heretic': 2877, 'leases': 2878, \"number'd\": 2879, 'hugely': 2880, 'politic': 2881, 'drowns': 2882, 'fools': 2883, \"were't\": 2884, 'extern': 2885, 'honouring': 2886, 'bases': 2887, 'ruining': 2888, 'dwellers': 2889, 'paying': 2890, 'rent': 2891, 'compound': 2892, 'forgoing': 2893, 'savour': 2894, 'pitiful': 2895, 'thrivers': 2896, 'gazing': 2897, 'oblation': 2898, \"mix'd\": 2899, 'seconds': 2900, 'suborned': 2901, 'informer': 2902, \"impeach'd\": 2903, 'waning': 2904, \"show'st\": 2905, 'withering': 2906, 'wrack': 2907, 'goest': 2908, 'onwards': 2909, 'minion': 2910, 'detain': 2911, 'delayed': 2912, 'answered': 2913, 'quietus': 2914, 'counted': 2915, 'successive': 2916, \"slander'd\": 2917, 'fairing': 2918, \"art's\": 2919, 'borrowed': 2920, 'bower': 2921, 'raven': 2922, 'suited': 2923, \"sland'ring\": 2924, \"play'st\": 2925, 'gently': 2926, \"sway'st\": 2927, 'wiry': 2928, 'harvest': 2929, 'reap': 2930, \"wood's\": 2931, 'boldness': 2932, 'tickled': 2933, 'situation': 2934, 'dancing': 2935, 'chips': 2936, 'walk': 2937, 'gait': 2938, \"bless'd\": 2939, 'savage': 2940, \"enjoy'd\": 2941, 'hunted': 2942, 'hated': 2943, \"swallow'd\": 2944, 'bait': 2945, 'taker': 2946, 'bliss': 2947, \"propos'd\": 2948, 'coral': 2949, 'snow': 2950, 'breasts': 2951, 'dun': 2952, 'hairs': 2953, \"damask'd\": 2954, 'reeks': 2955, 'treads': 2956, 'tyrannous': 2957, 'proudly': 2958, 'err': 2959, 'groans': 2960, 'neck': 2961, \"judgment's\": 2962, 'proceeds': 2963, 'pitying': 2964, 'ruth': 2965, 'grey': 2966, 'east': 2967, 'ushers': 2968, 'sober': 2969, 'become': 2970, 'beseem': 2971, 'herself': 2972, 'beshrew': 2973, 'slavery': 2974, \"sweet'st\": 2975, 'harder': 2976, \"engross'd\": 2977, 'forsaken': 2978, 'fold': 2979, \"cross'd\": 2980, 'prison': 2981, 'ward': 2982, \"whoe'er\": 2983, 'rigour': 2984, 'jail': 2985, 'perforce': 2986, \"confess'd\": 2987, \"mortgag'd\": 2988, 'restore': 2989, 'covetous': 2990, \"learn'd\": 2991, 'surety': 2992, 'bond': 2993, 'bind': 2994, 'statute': 2995, \"putt'st\": 2996, 'sue': 2997, 'debtor': 2998, 'whole': 2999, 'whoever': 3000, 'boot': 3001, 'plus': 3002, \"vex'd\": 3003, 'spacious': 3004, 'acceptance': 3005, 'addeth': 3006, \"'no'\": 3007, 'beseechers': 3008, 'admitted': 3009, 'receipt': 3010, \"reckon'd\": 3011, 'untold': 3012, \"store's\": 3013, 'partial': 3014, \"anchor'd\": 3015, 'bay': 3016, \"eyes'\": 3017, 'forged': 3018, 'hooks': 3019, 'several': 3020, 'plot': 3021, \"err'd\": 3022, \"transferr'd\": 3023, 'swears': 3024, \"untutor'd\": 3025, 'unlearned': 3026, 'subtleties': 3027, 'simply': 3028, 'credit': 3029, 'sides': 3030, 'suppressed': 3031, 'unjust': 3032, 'habit': 3033, \"flatter'd\": 3034, 'justify': 3035, 'slay': 3036, \"need'st\": 3037, \"o'erpress'd\": 3038, 'dart': 3039, 'outright': 3040, 'rid': 3041, 'press': 3042, 'manner': 3043, 'testy': 3044, 'news': 3045, 'physicians': 3046, 'madness': 3047, 'wresting': 3048, 'slanderers': 3049, 'believed': 3050, 'pleased': 3051, \"tongue's\": 3052, 'tune': 3053, 'delighted': 3054, 'prone': 3055, 'invited': 3056, 'senses': 3057, 'dissuade': 3058, 'foolish': 3059, \"unsway'd\": 3060, 'likeness': 3061, 'awards': 3062, 'merits': 3063, 'reproving': 3064, 'scarlet': 3065, 'ornaments': 3066, \"seal'd\": 3067, \"robb'd\": 3068, \"beds'\": 3069, 'revenues': 3070, 'rents': 3071, 'woo': 3072, 'importune': 3073, 'deserve': 3074, 'pitied': 3075, 'denied': 3076, 'housewife': 3077, 'runs': 3078, \"feather'd\": 3079, 'dispatch': 3080, 'neglected': 3081, 'busy': 3082, 'prizing': 3083, \"infant's\": 3084, \"runn'st\": 3085, 'afar': 3086, 'pray': 3087, 'loud': 3088, 'crying': 3089, 'suggest': 3090, 'worser': 3091, \"colour'd\": 3092, 'female': 3093, 'tempteth': 3094, 'saint': 3095, 'devil': 3096, 'wooing': 3097, 'purity': 3098, 'directly': 3099, 'doubt': 3100, 'breathed': 3101, \"languish'd\": 3102, 'woeful': 3103, 'mercy': 3104, 'chiding': 3105, 'followed': 3106, 'flown': 3107, 'threw': 3108, \"sav'd\": 3109, 'saying': 3110, \"'not\": 3111, \"you'\": 3112, 'centre': 3113, 'rebel': 3114, 'powers': 3115, 'array': 3116, 'dearth': 3117, 'costly': 3118, 'inheritors': 3119, 'excess': 3120, 'charge': 3121, \"servant's\": 3122, 'aggravate': 3123, 'buy': 3124, 'terms': 3125, 'selling': 3126, 'dross': 3127, 'fed': 3128, 'feed': 3129, \"there's\": 3130, 'dying': 3131, 'longing': 3132, 'nurseth': 3133, 'disease': 3134, 'preserve': 3135, 'uncertain': 3136, 'sickly': 3137, 'physician': 3138, 'angry': 3139, 'prescriptions': 3140, 'desperate': 3141, 'except': 3142, 'frantic': 3143, 'unrest': 3144, 'discourse': 3145, \"madmen's\": 3146, 'random': 3147, 'correspondence': 3148, 'censures': 3149, 'falsely': 3150, 'aright': 3151, 'denote': 3152, 'vexed': 3153, 'watching': 3154, 'marvel': 3155, 'mistake': 3156, 'sees': 3157, 'clears': 3158, \"keep'st\": 3159, 'partake': 3160, 'hateth': 3161, \"frown'st\": 3162, 'fawn': 3163, \"lour'st\": 3164, 'revenge': 3165, 'service': 3166, 'worship': 3167, 'commanded': 3168, 'insufficiency': 3169, 'brightness': 3170, 'refuse': 3171, 'warrantise': 3172, 'exceeds': 3173, 'unworthiness': 3174, \"rais'd\": 3175, 'cheater': 3176, 'betraying': 3177, 'nobler': 3178, 'treason': 3179, 'stays': 3180, 'rising': 3181, 'drudge': 3182, \"'love\": 3183, 'swearing': 3184, 'act': 3185, 'torn': 3186, 'vowing': 3187, \"oaths'\": 3188, 'breach': 3189, 'twenty': 3190, 'misuse': 3191, 'honest': 3192, 'enlighten': 3193, 'blindness': 3194, 'maid': 3195, \"dian's\": 3196, 'kindling': 3197, 'quickly': 3198, 'valley': 3199, 'fountain': 3200, \"borrow'd\": 3201, 'endure': 3202, 'seeting': 3203, 'fired': 3204, 'trial': 3205, 'touch': 3206, 'withal': 3207, 'thither': 3208, 'hied': 3209, \"distemper'd\": 3210, 'lying': 3211, 'inflaming': 3212, 'nymphs': 3213, \"vow'd\": 3214, 'chaste': 3215, 'tripping': 3216, 'votary': 3217, 'legions': 3218, \"warm'd\": 3219, 'sleeping': 3220, 'virgin': 3221, \"disarm'd\": 3222, 'quenched': 3223, 'cool': 3224, 'thrall': 3225, 'heats': 3226, 'cools': 3227}\n"
     ]
    }
   ],
   "source": [
    "# summarize what was learned\n",
    "#print(tokenizer.word_counts) #Counts for each word\n",
    "#print(tokenizer.document_count) #Total num words in file\n",
    "print(tokenizer.word_index) #Dictonary mapping in order of most common\n",
    "#print(tokenizer.word_docs) #Dictonary mapping in order of appearance\n",
    "\n",
    "#Create dictionary for token to work mappings. (Translation)\n",
    "Char_to_Int = tokenizer.word_index\n",
    "Int_to_Char = {Char_to_Int[k] : k for k in Char_to_Int}"
   ]
  },
  {
   "cell_type": "code",
   "execution_count": 7,
   "metadata": {},
   "outputs": [
    {
     "name": "stdout",
     "output_type": "stream",
     "text": [
      "MaxWordlength: 11\n",
      "[39, 93, 6, 566, 3, 463, 72, 6, 33, 15, 19]\n"
     ]
    }
   ],
   "source": [
    "maximum = 0\n",
    "maxword = ''\n",
    "for i in range(len(sequences)):\n",
    "    if len(sequences[i]) > maximum:\n",
    "        maximum = len(sequences[i])\n",
    "        index = i\n",
    "        maxword = sequences[i]\n",
    "print('MaxWordlength: %s' % (maximum))\n",
    "print(maxword)\n",
    "\n",
    "F = open('ShakespeareProcessed.txt', 'w')\n",
    "for i in range(len(sequences)):\n",
    "    if len(sequences[i]) > 3:\n",
    "        LINE = [Int_to_Char[INT] for INT in sequences[i]]\n",
    "        for j in range(len(sequences[i])):\n",
    "            F.write(LINE[j]+' ')\n",
    "        F.write(os.linesep)\n",
    "F.close()"
   ]
  },
  {
   "cell_type": "code",
   "execution_count": 22,
   "metadata": {},
   "outputs": [
    {
     "name": "stdout",
     "output_type": "stream",
     "text": [
      "Training on sequences 10 long\n",
      "9 training samples\n"
     ]
    }
   ],
   "source": [
    "# prepare the dataset of input to output pairs encoded as integers\n",
    "train_length = 10 #Length of training sequence\n",
    "step = 1 #More sequences\n",
    "print('Training on sequences %s long' % (train_length))\n",
    "dataX = []\n",
    "dataY = []\n",
    "for i in range(len(sequences)): #'Loop over data to split'\n",
    "    if len(sequences[i]) > train_length:\n",
    "        for j in range(0,len(sequences[i])-train_length,step):\n",
    "            seq_in = sequences[i][j:train_length+j] #Some Trump seq\n",
    "            seq_out = sequences[i][train_length+j] #The next charecter\n",
    "            dataX.append(seq_in) #train_length of words in\n",
    "            dataY.append(seq_out) #Prediction of one word out\n",
    "        \n",
    "print('%s training samples' % (len(dataX)))"
   ]
  },
  {
   "cell_type": "code",
   "execution_count": 10,
   "metadata": {},
   "outputs": [],
   "source": [
    "# reshape X to be [samples, time steps, features]\n",
    "X = np.reshape(dataX, (len(dataX), train_length))\n",
    "\n",
    "# one hot encode the output variable\n",
    "y = np_utils.to_categorical(dataY) #One-hot shot the output!\n",
    "\n",
    "\n",
    "Perm = np.random.permutation(len(X))\n",
    "X, y = X[Perm], y[Perm] #Random ordering. Hopefully make less bias to more recent events? Towards end of Epoch."
   ]
  },
  {
   "cell_type": "markdown",
   "metadata": {},
   "source": [
    "# Embedding"
   ]
  },
  {
   "cell_type": "code",
   "execution_count": 11,
   "metadata": {},
   "outputs": [],
   "source": [
    "embeddings_index = {}\n",
    "EMBEDDING_DIM = 100\n",
    "with open(os.path.join('/home/joey/Documents/MachineLearning/glove.6B', 'glove.6B.%sd.txt' % (EMBEDDING_DIM))) as f:\n",
    "    for line in f:\n",
    "        word, coefs = line.split(maxsplit=1)\n",
    "        coefs = np.fromstring(coefs, 'f', sep=' ')\n",
    "        embeddings_index[word] = coefs"
   ]
  },
  {
   "cell_type": "code",
   "execution_count": 12,
   "metadata": {},
   "outputs": [
    {
     "name": "stdout",
     "output_type": "stream",
     "text": [
      "\"love\" is more similar to \"shame\" than \"change\"\n"
     ]
    }
   ],
   "source": [
    "# prepare embedding matrix\n",
    "num_words = min(MAX_NB_WORDS, len(tokenizer.word_index)) + 1\n",
    "embedding_matrix = np.zeros((num_words, EMBEDDING_DIM))\n",
    "for word, i in word_index.items():\n",
    "    if i > MAX_NB_WORDS:\n",
    "        continue\n",
    "    embedding_vector = embeddings_index.get(word)\n",
    "    if embedding_vector is not None:\n",
    "        # words not found in embedding index will be all-zeros.\n",
    "        embedding_matrix[i] = embedding_vector\n",
    "\n",
    "WordCompare=\"love\"\n",
    "W1 = \"change\"\n",
    "W2= \"shame\"\n",
    "\n",
    "w1 = embeddings_index.get(W1)\n",
    "w2 = embeddings_index.get(WordCompare)\n",
    "A = np.dot(w2-w1,w2-w1)\n",
    "\n",
    "w1 = embeddings_index.get(W2)\n",
    "w2 = embeddings_index.get(WordCompare)\n",
    "B = np.dot(w2-w1,w2-w1)\n",
    "\n",
    "if A<B:\n",
    "    print(\"\\\"%s\\\" is more similar to \\\"%s\\\" than \\\"%s\\\"\" % (WordCompare, W1, W2))\n",
    "else:\n",
    "    print(\"\\\"%s\\\" is more similar to \\\"%s\\\" than \\\"%s\\\"\" % (WordCompare, W2, W1))\n"
   ]
  },
  {
   "cell_type": "markdown",
   "metadata": {},
   "source": [
    "# NN"
   ]
  },
  {
   "cell_type": "code",
   "execution_count": 13,
   "metadata": {},
   "outputs": [],
   "source": [
    "from keras.initializers import Constant\n",
    "\n",
    "def Build_NN():\n",
    "    inputs = keras.layers.Input(shape=(train_length,))\n",
    "    x = keras.layers.Embedding(num_words,\n",
    "                            EMBEDDING_DIM,\n",
    "                            embeddings_initializer=Constant(embedding_matrix),\n",
    "                            input_length=train_length,\n",
    "                            trainable=False)(inputs)\n",
    "    \n",
    "    x = keras.layers.LSTM(EMBEDDING_DIM*4, return_sequences=True)(x)\n",
    "    x = keras.layers.Dropout(0.2, name='Drop_1')(x)\n",
    "    x = keras.layers.LSTM(EMBEDDING_DIM*4)(x)\n",
    "    x = keras.layers.Dense(EMBEDDING_DIM)(x)\n",
    "    predictions = keras.layers.Dense(y.shape[1],name='predictions',activation='softmax')(x)\n",
    "    \n",
    "    model = keras.models.Model(inputs = inputs, outputs = predictions)\n",
    "    model.summary()\n",
    "    \n",
    "\n",
    "    sgd = keras.optimizers.adam()\n",
    "    #####Compile model##########\n",
    "    loss = 'categorical_crossentropy'\n",
    "    model.compile(optimizer=sgd, loss=loss, metrics=['acc'])\n",
    "\n",
    "    return model\n",
    "\n",
    "def Train_NN(model,append,initial_epoch,end_epoch):\n",
    "    # define the checkpoint\n",
    "    callbacks_list = [\n",
    "        keras.callbacks.ModelCheckpoint(\"weights-improvement-{epoch:02d}-{loss:.4f}.hdf5\", monitor='loss', verbose=1, save_best_only=True, mode='min'),\n",
    "        keras.callbacks.CSVLogger(\"TrainLog.csv\", separator=',', append=append)\n",
    "    ]\n",
    "    # fit the model\n",
    "    model.fit(X, y, epochs=end_epoch, batch_size=64, callbacks=callbacks_list,initial_epoch=initial_epoch)\n",
    "    return(model)"
   ]
  },
  {
   "cell_type": "code",
   "execution_count": 14,
   "metadata": {
    "scrolled": false
   },
   "outputs": [
    {
     "name": "stderr",
     "output_type": "stream",
     "text": [
      "WARNING: Logging before flag parsing goes to stderr.\n",
      "W0525 15:47:41.309087 140054581843776 deprecation_wrapper.py:119] From /usr/local/lib/python3.6/dist-packages/keras/backend/tensorflow_backend.py:74: The name tf.get_default_graph is deprecated. Please use tf.compat.v1.get_default_graph instead.\n",
      "\n",
      "W0525 15:47:41.325919 140054581843776 deprecation_wrapper.py:119] From /usr/local/lib/python3.6/dist-packages/keras/backend/tensorflow_backend.py:517: The name tf.placeholder is deprecated. Please use tf.compat.v1.placeholder instead.\n",
      "\n",
      "W0525 15:47:41.342711 140054581843776 deprecation_wrapper.py:119] From /usr/local/lib/python3.6/dist-packages/keras/backend/tensorflow_backend.py:4138: The name tf.random_uniform is deprecated. Please use tf.random.uniform instead.\n",
      "\n",
      "W0525 15:47:41.726359 140054581843776 deprecation_wrapper.py:119] From /usr/local/lib/python3.6/dist-packages/keras/backend/tensorflow_backend.py:133: The name tf.placeholder_with_default is deprecated. Please use tf.compat.v1.placeholder_with_default instead.\n",
      "\n",
      "W0525 15:47:41.731326 140054581843776 deprecation.py:506] From /usr/local/lib/python3.6/dist-packages/keras/backend/tensorflow_backend.py:3445: calling dropout (from tensorflow.python.ops.nn_ops) with keep_prob is deprecated and will be removed in a future version.\n",
      "Instructions for updating:\n",
      "Please use `rate` instead of `keep_prob`. Rate should be set to `rate = 1 - keep_prob`.\n",
      "W0525 15:47:42.156211 140054581843776 deprecation_wrapper.py:119] From /usr/local/lib/python3.6/dist-packages/keras/optimizers.py:790: The name tf.train.Optimizer is deprecated. Please use tf.compat.v1.train.Optimizer instead.\n",
      "\n",
      "W0525 15:47:42.161674 140054581843776 deprecation_wrapper.py:119] From /usr/local/lib/python3.6/dist-packages/keras/backend/tensorflow_backend.py:3295: The name tf.log is deprecated. Please use tf.math.log instead.\n",
      "\n",
      "W0525 15:47:42.341002 140054581843776 deprecation.py:323] From /usr/local/lib/python3.6/dist-packages/tensorflow/python/ops/math_grad.py:1250: add_dispatch_support.<locals>.wrapper (from tensorflow.python.ops.array_ops) is deprecated and will be removed in a future version.\n",
      "Instructions for updating:\n",
      "Use tf.where in 2.0, which has the same broadcast rule as np.where\n"
     ]
    },
    {
     "name": "stdout",
     "output_type": "stream",
     "text": [
      "_________________________________________________________________\n",
      "Layer (type)                 Output Shape              Param #   \n",
      "=================================================================\n",
      "input_1 (InputLayer)         (None, 6)                 0         \n",
      "_________________________________________________________________\n",
      "embedding_1 (Embedding)      (None, 6, 100)            322800    \n",
      "_________________________________________________________________\n",
      "lstm_1 (LSTM)                (None, 6, 400)            801600    \n",
      "_________________________________________________________________\n",
      "Drop_1 (Dropout)             (None, 6, 400)            0         \n",
      "_________________________________________________________________\n",
      "lstm_2 (LSTM)                (None, 400)               1281600   \n",
      "_________________________________________________________________\n",
      "dense_1 (Dense)              (None, 100)               40100     \n",
      "_________________________________________________________________\n",
      "predictions (Dense)          (None, 3226)              325826    \n",
      "=================================================================\n",
      "Total params: 2,771,926\n",
      "Trainable params: 2,449,126\n",
      "Non-trainable params: 322,800\n",
      "_________________________________________________________________\n",
      "Epoch 1/100\n",
      "4719/4719 [==============================] - 7s 2ms/step - loss: 7.1799 - acc: 0.0163\n",
      "\n",
      "Epoch 00001: loss improved from inf to 7.17988, saving model to weights-improvement-01-7.1799.hdf5\n",
      "Epoch 2/100\n",
      "4719/4719 [==============================] - 7s 1ms/step - loss: 6.5683 - acc: 0.0186\n",
      "\n",
      "Epoch 00002: loss improved from 7.17988 to 6.56834, saving model to weights-improvement-02-6.5683.hdf5\n",
      "Epoch 3/100\n",
      "4719/4719 [==============================] - 6s 1ms/step - loss: 6.4937 - acc: 0.0208\n",
      "\n",
      "Epoch 00003: loss improved from 6.56834 to 6.49370, saving model to weights-improvement-03-6.4937.hdf5\n",
      "Epoch 4/100\n",
      "4719/4719 [==============================] - 8s 2ms/step - loss: 6.4500 - acc: 0.0191\n",
      "\n",
      "Epoch 00004: loss improved from 6.49370 to 6.44999, saving model to weights-improvement-04-6.4500.hdf5\n",
      "Epoch 5/100\n",
      "4719/4719 [==============================] - 7s 1ms/step - loss: 6.4179 - acc: 0.0242\n",
      "\n",
      "Epoch 00005: loss improved from 6.44999 to 6.41786, saving model to weights-improvement-05-6.4179.hdf5\n",
      "Epoch 6/100\n",
      "4719/4719 [==============================] - 8s 2ms/step - loss: 6.3334 - acc: 0.0282\n",
      "\n",
      "Epoch 00006: loss improved from 6.41786 to 6.33344, saving model to weights-improvement-06-6.3334.hdf5\n",
      "Epoch 7/100\n",
      "4719/4719 [==============================] - 6s 1ms/step - loss: 6.2048 - acc: 0.0331\n",
      "\n",
      "Epoch 00007: loss improved from 6.33344 to 6.20477, saving model to weights-improvement-07-6.2048.hdf5\n",
      "Epoch 8/100\n",
      "4719/4719 [==============================] - 6s 1ms/step - loss: 6.0337 - acc: 0.0358\n",
      "\n",
      "Epoch 00008: loss improved from 6.20477 to 6.03366, saving model to weights-improvement-08-6.0337.hdf5\n",
      "Epoch 9/100\n",
      "4719/4719 [==============================] - 6s 1ms/step - loss: 5.8583 - acc: 0.0405\n",
      "\n",
      "Epoch 00009: loss improved from 6.03366 to 5.85834, saving model to weights-improvement-09-5.8583.hdf5\n",
      "Epoch 10/100\n",
      "4719/4719 [==============================] - 6s 1ms/step - loss: 5.6728 - acc: 0.0460\n",
      "\n",
      "Epoch 00010: loss improved from 5.85834 to 5.67281, saving model to weights-improvement-10-5.6728.hdf5\n",
      "Epoch 11/100\n",
      "4719/4719 [==============================] - 6s 1ms/step - loss: 5.4446 - acc: 0.0528\n",
      "\n",
      "Epoch 00011: loss improved from 5.67281 to 5.44457, saving model to weights-improvement-11-5.4446.hdf5\n",
      "Epoch 12/100\n",
      "4719/4719 [==============================] - 6s 1ms/step - loss: 5.1958 - acc: 0.0585\n",
      "\n",
      "Epoch 00012: loss improved from 5.44457 to 5.19576, saving model to weights-improvement-12-5.1958.hdf5\n",
      "Epoch 13/100\n",
      "4719/4719 [==============================] - 6s 1ms/step - loss: 4.9031 - acc: 0.0672\n",
      "\n",
      "Epoch 00013: loss improved from 5.19576 to 4.90311, saving model to weights-improvement-13-4.9031.hdf5\n",
      "Epoch 14/100\n",
      "4719/4719 [==============================] - 6s 1ms/step - loss: 4.5768 - acc: 0.0831\n",
      "\n",
      "Epoch 00014: loss improved from 4.90311 to 4.57675, saving model to weights-improvement-14-4.5768.hdf5\n",
      "Epoch 15/100\n",
      "4719/4719 [==============================] - 7s 1ms/step - loss: 4.2087 - acc: 0.1134\n",
      "\n",
      "Epoch 00015: loss improved from 4.57675 to 4.20870, saving model to weights-improvement-15-4.2087.hdf5\n",
      "Epoch 16/100\n",
      "4719/4719 [==============================] - 7s 1ms/step - loss: 3.8055 - acc: 0.1587\n",
      "\n",
      "Epoch 00016: loss improved from 4.20870 to 3.80552, saving model to weights-improvement-16-3.8055.hdf5\n",
      "Epoch 17/100\n",
      "4719/4719 [==============================] - 6s 1ms/step - loss: 3.3834 - acc: 0.2206\n",
      "\n",
      "Epoch 00017: loss improved from 3.80552 to 3.38341, saving model to weights-improvement-17-3.3834.hdf5\n",
      "Epoch 18/100\n",
      "4719/4719 [==============================] - 6s 1ms/step - loss: 2.9414 - acc: 0.3064\n",
      "\n",
      "Epoch 00018: loss improved from 3.38341 to 2.94136, saving model to weights-improvement-18-2.9414.hdf5\n",
      "Epoch 19/100\n",
      "4719/4719 [==============================] - 6s 1ms/step - loss: 2.4485 - acc: 0.4058\n",
      "\n",
      "Epoch 00019: loss improved from 2.94136 to 2.44853, saving model to weights-improvement-19-2.4485.hdf5\n",
      "Epoch 20/100\n",
      "4719/4719 [==============================] - 6s 1ms/step - loss: 2.0399 - acc: 0.4895\n",
      "\n",
      "Epoch 00020: loss improved from 2.44853 to 2.03987, saving model to weights-improvement-20-2.0399.hdf5\n",
      "Epoch 21/100\n",
      "4719/4719 [==============================] - 6s 1ms/step - loss: 1.6119 - acc: 0.6003\n",
      "\n",
      "Epoch 00021: loss improved from 2.03987 to 1.61188, saving model to weights-improvement-21-1.6119.hdf5\n",
      "Epoch 22/100\n",
      "4719/4719 [==============================] - 6s 1ms/step - loss: 1.2388 - acc: 0.6887\n",
      "\n",
      "Epoch 00022: loss improved from 1.61188 to 1.23884, saving model to weights-improvement-22-1.2388.hdf5\n",
      "Epoch 23/100\n",
      "4719/4719 [==============================] - 6s 1ms/step - loss: 0.9198 - acc: 0.7792\n",
      "\n",
      "Epoch 00023: loss improved from 1.23884 to 0.91985, saving model to weights-improvement-23-0.9198.hdf5\n",
      "Epoch 24/100\n",
      "4719/4719 [==============================] - 6s 1ms/step - loss: 0.6472 - acc: 0.8557\n",
      "\n",
      "Epoch 00024: loss improved from 0.91985 to 0.64722, saving model to weights-improvement-24-0.6472.hdf5\n",
      "Epoch 25/100\n",
      "4719/4719 [==============================] - 6s 1ms/step - loss: 0.4446 - acc: 0.9138\n",
      "\n",
      "Epoch 00025: loss improved from 0.64722 to 0.44462, saving model to weights-improvement-25-0.4446.hdf5\n",
      "Epoch 26/100\n",
      "4719/4719 [==============================] - 6s 1ms/step - loss: 0.2843 - acc: 0.9536\n",
      "\n",
      "Epoch 00026: loss improved from 0.44462 to 0.28430, saving model to weights-improvement-26-0.2843.hdf5\n",
      "Epoch 27/100\n",
      "4719/4719 [==============================] - 6s 1ms/step - loss: 0.1953 - acc: 0.9775\n",
      "\n",
      "Epoch 00027: loss improved from 0.28430 to 0.19529, saving model to weights-improvement-27-0.1953.hdf5\n",
      "Epoch 28/100\n",
      "4719/4719 [==============================] - 6s 1ms/step - loss: 0.1283 - acc: 0.9886\n",
      "\n",
      "Epoch 00028: loss improved from 0.19529 to 0.12832, saving model to weights-improvement-28-0.1283.hdf5\n",
      "Epoch 29/100\n",
      "4719/4719 [==============================] - 6s 1ms/step - loss: 0.0871 - acc: 0.9958\n",
      "\n",
      "Epoch 00029: loss improved from 0.12832 to 0.08713, saving model to weights-improvement-29-0.0871.hdf5\n",
      "Epoch 30/100\n",
      "4719/4719 [==============================] - 6s 1ms/step - loss: 0.0621 - acc: 0.9985\n",
      "\n",
      "Epoch 00030: loss improved from 0.08713 to 0.06207, saving model to weights-improvement-30-0.0621.hdf5\n",
      "Epoch 31/100\n",
      "4719/4719 [==============================] - 6s 1ms/step - loss: 0.0451 - acc: 0.9994\n",
      "\n",
      "Epoch 00031: loss improved from 0.06207 to 0.04507, saving model to weights-improvement-31-0.0451.hdf5\n",
      "Epoch 32/100\n",
      "4719/4719 [==============================] - 6s 1ms/step - loss: 0.0349 - acc: 0.9989\n",
      "\n",
      "Epoch 00032: loss improved from 0.04507 to 0.03492, saving model to weights-improvement-32-0.0349.hdf5\n",
      "Epoch 33/100\n",
      "4719/4719 [==============================] - 6s 1ms/step - loss: 0.0276 - acc: 0.9996\n",
      "\n",
      "Epoch 00033: loss improved from 0.03492 to 0.02758, saving model to weights-improvement-33-0.0276.hdf5\n",
      "Epoch 34/100\n",
      "4719/4719 [==============================] - 7s 1ms/step - loss: 0.0216 - acc: 0.9998\n",
      "\n",
      "Epoch 00034: loss improved from 0.02758 to 0.02163, saving model to weights-improvement-34-0.0216.hdf5\n",
      "Epoch 35/100\n"
     ]
    },
    {
     "name": "stdout",
     "output_type": "stream",
     "text": [
      "4719/4719 [==============================] - 6s 1ms/step - loss: 0.0200 - acc: 0.9996\n",
      "\n",
      "Epoch 00035: loss improved from 0.02163 to 0.02001, saving model to weights-improvement-35-0.0200.hdf5\n",
      "Epoch 36/100\n",
      "4719/4719 [==============================] - 6s 1ms/step - loss: 0.0191 - acc: 0.9994\n",
      "\n",
      "Epoch 00036: loss improved from 0.02001 to 0.01907, saving model to weights-improvement-36-0.0191.hdf5\n",
      "Epoch 37/100\n",
      "4719/4719 [==============================] - 6s 1ms/step - loss: 0.0223 - acc: 0.9992\n",
      "\n",
      "Epoch 00037: loss did not improve from 0.01907\n",
      "Epoch 38/100\n",
      "4719/4719 [==============================] - 6s 1ms/step - loss: 0.0157 - acc: 0.9996\n",
      "\n",
      "Epoch 00038: loss improved from 0.01907 to 0.01572, saving model to weights-improvement-38-0.0157.hdf5\n",
      "Epoch 39/100\n",
      "4719/4719 [==============================] - 6s 1ms/step - loss: 0.0134 - acc: 0.9998\n",
      "\n",
      "Epoch 00039: loss improved from 0.01572 to 0.01338, saving model to weights-improvement-39-0.0134.hdf5\n",
      "Epoch 40/100\n",
      "4719/4719 [==============================] - 6s 1ms/step - loss: 0.0117 - acc: 0.9998\n",
      "\n",
      "Epoch 00040: loss improved from 0.01338 to 0.01171, saving model to weights-improvement-40-0.0117.hdf5\n",
      "Epoch 41/100\n",
      "4719/4719 [==============================] - 6s 1ms/step - loss: 0.0103 - acc: 0.9998\n",
      "\n",
      "Epoch 00041: loss improved from 0.01171 to 0.01035, saving model to weights-improvement-41-0.0103.hdf5\n",
      "Epoch 42/100\n",
      "4719/4719 [==============================] - 8s 2ms/step - loss: 0.0095 - acc: 0.9998\n",
      "\n",
      "Epoch 00042: loss improved from 0.01035 to 0.00947, saving model to weights-improvement-42-0.0095.hdf5\n",
      "Epoch 43/100\n",
      "4719/4719 [==============================] - 6s 1ms/step - loss: 0.0091 - acc: 0.9998\n",
      "\n",
      "Epoch 00043: loss improved from 0.00947 to 0.00906, saving model to weights-improvement-43-0.0091.hdf5\n",
      "Epoch 44/100\n",
      "4719/4719 [==============================] - 7s 2ms/step - loss: 0.0089 - acc: 0.9998\n",
      "\n",
      "Epoch 00044: loss improved from 0.00906 to 0.00892, saving model to weights-improvement-44-0.0089.hdf5\n",
      "Epoch 45/100\n",
      "4719/4719 [==============================] - 6s 1ms/step - loss: 0.0082 - acc: 0.9996\n",
      "\n",
      "Epoch 00045: loss improved from 0.00892 to 0.00824, saving model to weights-improvement-45-0.0082.hdf5\n",
      "Epoch 46/100\n",
      "4719/4719 [==============================] - 7s 1ms/step - loss: 0.0133 - acc: 0.9992\n",
      "\n",
      "Epoch 00046: loss did not improve from 0.00824\n",
      "Epoch 47/100\n",
      "2688/4719 [================>.............] - ETA: 2s - loss: 0.0349 - acc: 0.9937"
     ]
    },
    {
     "ename": "KeyboardInterrupt",
     "evalue": "",
     "output_type": "error",
     "traceback": [
      "\u001b[0;31m---------------------------------------------------------------------------\u001b[0m",
      "\u001b[0;31mKeyboardInterrupt\u001b[0m                         Traceback (most recent call last)",
      "\u001b[0;32m<ipython-input-14-ce082c154ae1>\u001b[0m in \u001b[0;36m<module>\u001b[0;34m()\u001b[0m\n\u001b[1;32m      1\u001b[0m \u001b[0mmodel\u001b[0m \u001b[0;34m=\u001b[0m \u001b[0mBuild_NN\u001b[0m\u001b[0;34m(\u001b[0m\u001b[0;34m)\u001b[0m\u001b[0;34m\u001b[0m\u001b[0;34m\u001b[0m\u001b[0m\n\u001b[0;32m----> 2\u001b[0;31m \u001b[0mmodel\u001b[0m \u001b[0;34m=\u001b[0m \u001b[0mTrain_NN\u001b[0m\u001b[0;34m(\u001b[0m\u001b[0mmodel\u001b[0m\u001b[0;34m,\u001b[0m\u001b[0;32mFalse\u001b[0m\u001b[0;34m,\u001b[0m\u001b[0;36m0\u001b[0m\u001b[0;34m,\u001b[0m\u001b[0;36m100\u001b[0m\u001b[0;34m)\u001b[0m\u001b[0;34m\u001b[0m\u001b[0;34m\u001b[0m\u001b[0m\n\u001b[0m",
      "\u001b[0;32m<ipython-input-13-0b18e619bc16>\u001b[0m in \u001b[0;36mTrain_NN\u001b[0;34m(model, append, initial_epoch, end_epoch)\u001b[0m\n\u001b[1;32m     33\u001b[0m     ]\n\u001b[1;32m     34\u001b[0m     \u001b[0;31m# fit the model\u001b[0m\u001b[0;34m\u001b[0m\u001b[0;34m\u001b[0m\u001b[0;34m\u001b[0m\u001b[0m\n\u001b[0;32m---> 35\u001b[0;31m     \u001b[0mmodel\u001b[0m\u001b[0;34m.\u001b[0m\u001b[0mfit\u001b[0m\u001b[0;34m(\u001b[0m\u001b[0mX\u001b[0m\u001b[0;34m,\u001b[0m \u001b[0my\u001b[0m\u001b[0;34m,\u001b[0m \u001b[0mepochs\u001b[0m\u001b[0;34m=\u001b[0m\u001b[0mend_epoch\u001b[0m\u001b[0;34m,\u001b[0m \u001b[0mbatch_size\u001b[0m\u001b[0;34m=\u001b[0m\u001b[0;36m64\u001b[0m\u001b[0;34m,\u001b[0m \u001b[0mcallbacks\u001b[0m\u001b[0;34m=\u001b[0m\u001b[0mcallbacks_list\u001b[0m\u001b[0;34m,\u001b[0m\u001b[0minitial_epoch\u001b[0m\u001b[0;34m=\u001b[0m\u001b[0minitial_epoch\u001b[0m\u001b[0;34m)\u001b[0m\u001b[0;34m\u001b[0m\u001b[0;34m\u001b[0m\u001b[0m\n\u001b[0m\u001b[1;32m     36\u001b[0m     \u001b[0;32mreturn\u001b[0m\u001b[0;34m(\u001b[0m\u001b[0mmodel\u001b[0m\u001b[0;34m)\u001b[0m\u001b[0;34m\u001b[0m\u001b[0;34m\u001b[0m\u001b[0m\n",
      "\u001b[0;32m/usr/local/lib/python3.6/dist-packages/keras/engine/training.py\u001b[0m in \u001b[0;36mfit\u001b[0;34m(self, x, y, batch_size, epochs, verbose, callbacks, validation_split, validation_data, shuffle, class_weight, sample_weight, initial_epoch, steps_per_epoch, validation_steps, **kwargs)\u001b[0m\n\u001b[1;32m   1037\u001b[0m                                         \u001b[0minitial_epoch\u001b[0m\u001b[0;34m=\u001b[0m\u001b[0minitial_epoch\u001b[0m\u001b[0;34m,\u001b[0m\u001b[0;34m\u001b[0m\u001b[0;34m\u001b[0m\u001b[0m\n\u001b[1;32m   1038\u001b[0m                                         \u001b[0msteps_per_epoch\u001b[0m\u001b[0;34m=\u001b[0m\u001b[0msteps_per_epoch\u001b[0m\u001b[0;34m,\u001b[0m\u001b[0;34m\u001b[0m\u001b[0;34m\u001b[0m\u001b[0m\n\u001b[0;32m-> 1039\u001b[0;31m                                         validation_steps=validation_steps)\n\u001b[0m\u001b[1;32m   1040\u001b[0m \u001b[0;34m\u001b[0m\u001b[0m\n\u001b[1;32m   1041\u001b[0m     def evaluate(self, x=None, y=None,\n",
      "\u001b[0;32m/usr/local/lib/python3.6/dist-packages/keras/engine/training_arrays.py\u001b[0m in \u001b[0;36mfit_loop\u001b[0;34m(model, f, ins, out_labels, batch_size, epochs, verbose, callbacks, val_f, val_ins, shuffle, callback_metrics, initial_epoch, steps_per_epoch, validation_steps)\u001b[0m\n\u001b[1;32m    197\u001b[0m                     \u001b[0mins_batch\u001b[0m\u001b[0;34m[\u001b[0m\u001b[0mi\u001b[0m\u001b[0;34m]\u001b[0m \u001b[0;34m=\u001b[0m \u001b[0mins_batch\u001b[0m\u001b[0;34m[\u001b[0m\u001b[0mi\u001b[0m\u001b[0;34m]\u001b[0m\u001b[0;34m.\u001b[0m\u001b[0mtoarray\u001b[0m\u001b[0;34m(\u001b[0m\u001b[0;34m)\u001b[0m\u001b[0;34m\u001b[0m\u001b[0;34m\u001b[0m\u001b[0m\n\u001b[1;32m    198\u001b[0m \u001b[0;34m\u001b[0m\u001b[0m\n\u001b[0;32m--> 199\u001b[0;31m                 \u001b[0mouts\u001b[0m \u001b[0;34m=\u001b[0m \u001b[0mf\u001b[0m\u001b[0;34m(\u001b[0m\u001b[0mins_batch\u001b[0m\u001b[0;34m)\u001b[0m\u001b[0;34m\u001b[0m\u001b[0;34m\u001b[0m\u001b[0m\n\u001b[0m\u001b[1;32m    200\u001b[0m                 \u001b[0mouts\u001b[0m \u001b[0;34m=\u001b[0m \u001b[0mto_list\u001b[0m\u001b[0;34m(\u001b[0m\u001b[0mouts\u001b[0m\u001b[0;34m)\u001b[0m\u001b[0;34m\u001b[0m\u001b[0;34m\u001b[0m\u001b[0m\n\u001b[1;32m    201\u001b[0m                 \u001b[0;32mfor\u001b[0m \u001b[0ml\u001b[0m\u001b[0;34m,\u001b[0m \u001b[0mo\u001b[0m \u001b[0;32min\u001b[0m \u001b[0mzip\u001b[0m\u001b[0;34m(\u001b[0m\u001b[0mout_labels\u001b[0m\u001b[0;34m,\u001b[0m \u001b[0mouts\u001b[0m\u001b[0;34m)\u001b[0m\u001b[0;34m:\u001b[0m\u001b[0;34m\u001b[0m\u001b[0;34m\u001b[0m\u001b[0m\n",
      "\u001b[0;32m/usr/local/lib/python3.6/dist-packages/keras/backend/tensorflow_backend.py\u001b[0m in \u001b[0;36m__call__\u001b[0;34m(self, inputs)\u001b[0m\n\u001b[1;32m   2713\u001b[0m                 \u001b[0;32mreturn\u001b[0m \u001b[0mself\u001b[0m\u001b[0;34m.\u001b[0m\u001b[0m_legacy_call\u001b[0m\u001b[0;34m(\u001b[0m\u001b[0minputs\u001b[0m\u001b[0;34m)\u001b[0m\u001b[0;34m\u001b[0m\u001b[0;34m\u001b[0m\u001b[0m\n\u001b[1;32m   2714\u001b[0m \u001b[0;34m\u001b[0m\u001b[0m\n\u001b[0;32m-> 2715\u001b[0;31m             \u001b[0;32mreturn\u001b[0m \u001b[0mself\u001b[0m\u001b[0;34m.\u001b[0m\u001b[0m_call\u001b[0m\u001b[0;34m(\u001b[0m\u001b[0minputs\u001b[0m\u001b[0;34m)\u001b[0m\u001b[0;34m\u001b[0m\u001b[0;34m\u001b[0m\u001b[0m\n\u001b[0m\u001b[1;32m   2716\u001b[0m         \u001b[0;32melse\u001b[0m\u001b[0;34m:\u001b[0m\u001b[0;34m\u001b[0m\u001b[0;34m\u001b[0m\u001b[0m\n\u001b[1;32m   2717\u001b[0m             \u001b[0;32mif\u001b[0m \u001b[0mpy_any\u001b[0m\u001b[0;34m(\u001b[0m\u001b[0mis_tensor\u001b[0m\u001b[0;34m(\u001b[0m\u001b[0mx\u001b[0m\u001b[0;34m)\u001b[0m \u001b[0;32mfor\u001b[0m \u001b[0mx\u001b[0m \u001b[0;32min\u001b[0m \u001b[0minputs\u001b[0m\u001b[0;34m)\u001b[0m\u001b[0;34m:\u001b[0m\u001b[0;34m\u001b[0m\u001b[0;34m\u001b[0m\u001b[0m\n",
      "\u001b[0;32m/usr/local/lib/python3.6/dist-packages/keras/backend/tensorflow_backend.py\u001b[0m in \u001b[0;36m_call\u001b[0;34m(self, inputs)\u001b[0m\n\u001b[1;32m   2673\u001b[0m             \u001b[0mfetched\u001b[0m \u001b[0;34m=\u001b[0m \u001b[0mself\u001b[0m\u001b[0;34m.\u001b[0m\u001b[0m_callable_fn\u001b[0m\u001b[0;34m(\u001b[0m\u001b[0;34m*\u001b[0m\u001b[0marray_vals\u001b[0m\u001b[0;34m,\u001b[0m \u001b[0mrun_metadata\u001b[0m\u001b[0;34m=\u001b[0m\u001b[0mself\u001b[0m\u001b[0;34m.\u001b[0m\u001b[0mrun_metadata\u001b[0m\u001b[0;34m)\u001b[0m\u001b[0;34m\u001b[0m\u001b[0;34m\u001b[0m\u001b[0m\n\u001b[1;32m   2674\u001b[0m         \u001b[0;32melse\u001b[0m\u001b[0;34m:\u001b[0m\u001b[0;34m\u001b[0m\u001b[0;34m\u001b[0m\u001b[0m\n\u001b[0;32m-> 2675\u001b[0;31m             \u001b[0mfetched\u001b[0m \u001b[0;34m=\u001b[0m \u001b[0mself\u001b[0m\u001b[0;34m.\u001b[0m\u001b[0m_callable_fn\u001b[0m\u001b[0;34m(\u001b[0m\u001b[0;34m*\u001b[0m\u001b[0marray_vals\u001b[0m\u001b[0;34m)\u001b[0m\u001b[0;34m\u001b[0m\u001b[0;34m\u001b[0m\u001b[0m\n\u001b[0m\u001b[1;32m   2676\u001b[0m         \u001b[0;32mreturn\u001b[0m \u001b[0mfetched\u001b[0m\u001b[0;34m[\u001b[0m\u001b[0;34m:\u001b[0m\u001b[0mlen\u001b[0m\u001b[0;34m(\u001b[0m\u001b[0mself\u001b[0m\u001b[0;34m.\u001b[0m\u001b[0moutputs\u001b[0m\u001b[0;34m)\u001b[0m\u001b[0;34m]\u001b[0m\u001b[0;34m\u001b[0m\u001b[0;34m\u001b[0m\u001b[0m\n\u001b[1;32m   2677\u001b[0m \u001b[0;34m\u001b[0m\u001b[0m\n",
      "\u001b[0;32m/usr/local/lib/python3.6/dist-packages/tensorflow/python/client/session.py\u001b[0m in \u001b[0;36m__call__\u001b[0;34m(self, *args, **kwargs)\u001b[0m\n\u001b[1;32m   1456\u001b[0m         ret = tf_session.TF_SessionRunCallable(self._session._session,\n\u001b[1;32m   1457\u001b[0m                                                \u001b[0mself\u001b[0m\u001b[0;34m.\u001b[0m\u001b[0m_handle\u001b[0m\u001b[0;34m,\u001b[0m \u001b[0margs\u001b[0m\u001b[0;34m,\u001b[0m\u001b[0;34m\u001b[0m\u001b[0;34m\u001b[0m\u001b[0m\n\u001b[0;32m-> 1458\u001b[0;31m                                                run_metadata_ptr)\n\u001b[0m\u001b[1;32m   1459\u001b[0m         \u001b[0;32mif\u001b[0m \u001b[0mrun_metadata\u001b[0m\u001b[0;34m:\u001b[0m\u001b[0;34m\u001b[0m\u001b[0;34m\u001b[0m\u001b[0m\n\u001b[1;32m   1460\u001b[0m           \u001b[0mproto_data\u001b[0m \u001b[0;34m=\u001b[0m \u001b[0mtf_session\u001b[0m\u001b[0;34m.\u001b[0m\u001b[0mTF_GetBuffer\u001b[0m\u001b[0;34m(\u001b[0m\u001b[0mrun_metadata_ptr\u001b[0m\u001b[0;34m)\u001b[0m\u001b[0;34m\u001b[0m\u001b[0;34m\u001b[0m\u001b[0m\n",
      "\u001b[0;31mKeyboardInterrupt\u001b[0m: "
     ]
    }
   ],
   "source": [
    "model = Build_NN()\n",
    "model = Train_NN(model,False,0,100)"
   ]
  },
  {
   "cell_type": "markdown",
   "metadata": {},
   "source": [
    "# Testing"
   ]
  },
  {
   "cell_type": "code",
   "execution_count": 15,
   "metadata": {},
   "outputs": [
    {
     "name": "stdout",
     "output_type": "stream",
     "text": [
      "_________________________________________________________________\n",
      "Layer (type)                 Output Shape              Param #   \n",
      "=================================================================\n",
      "input_1 (InputLayer)         (None, 6)                 0         \n",
      "_________________________________________________________________\n",
      "embedding_1 (Embedding)      (None, 6, 100)            322800    \n",
      "_________________________________________________________________\n",
      "lstm_1 (LSTM)                (None, 6, 400)            801600    \n",
      "_________________________________________________________________\n",
      "Drop_1 (Dropout)             (None, 6, 400)            0         \n",
      "_________________________________________________________________\n",
      "lstm_2 (LSTM)                (None, 400)               1281600   \n",
      "_________________________________________________________________\n",
      "dense_1 (Dense)              (None, 100)               40100     \n",
      "_________________________________________________________________\n",
      "predictions (Dense)          (None, 3226)              325826    \n",
      "=================================================================\n",
      "Total params: 2,771,926\n",
      "Trainable params: 2,449,126\n",
      "Non-trainable params: 322,800\n",
      "_________________________________________________________________\n"
     ]
    }
   ],
   "source": [
    "def Load_NN(epoch,loss):\n",
    "    '''Load previously saved model'''\n",
    "    from keras.models import load_model\n",
    "    import h5py\n",
    "    model = load_model(\"weights-improvement-%02d-%.4f.hdf5\" % (epoch,loss))\n",
    "    model.summary()\n",
    "    return model\n",
    "\n",
    "epoch, loss = 22, 1.2388\n",
    "model = Load_NN(epoch,loss)"
   ]
  },
  {
   "cell_type": "code",
   "execution_count": 16,
   "metadata": {},
   "outputs": [
    {
     "data": {
      "image/png": "[encoded data removed]",
      "text/plain": [
       "<matplotlib.figure.Figure at 0x7f602d48b518>"
      ]
     },
     "metadata": {},
     "output_type": "display_data"
    }
   ],
   "source": [
    "import csv\n",
    "\n",
    "with open('TrainLog.csv', 'r') as f:\n",
    "    Data = np.array(list(csv.reader(f, delimiter=',')))\n",
    "    \n",
    "Data = np.array(Data[1:,:],dtype=np.float)\n",
    "    \n",
    "epoch, acc, loss = Data[:,0],Data[:,1], Data[:,2]\n",
    "\n",
    "pyplot.figure(figsize=(10,5))\n",
    "pyplot.subplot(1,2,1)\n",
    "pyplot.scatter(epoch,loss)\n",
    "pyplot.ylabel('Loss')\n",
    "pyplot.xlabel('Epoch')\n",
    "pyplot.ylim([2,7])\n",
    "pyplot.subplot(1,2,2)\n",
    "pyplot.plot(epoch,acc)\n",
    "pyplot.ylabel('Acc')\n",
    "pyplot.xlabel('Epoch')\n",
    "pyplot.ylim([0,.5])\n",
    "pyplot.show()"
   ]
  },
  {
   "cell_type": "code",
   "execution_count": 17,
   "metadata": {},
   "outputs": [],
   "source": [
    "def MakeInputType(PHRASE,train_length):\n",
    "    seedbase = np.zeros(train_length,dtype=float)\n",
    "    seedbase = np.reshape(seedbase, (1, train_length))\n",
    "    \n",
    "    seed = [Char_to_Int[char] for char in PHRASE] \n",
    "    seed = np.array(seed) \n",
    "\n",
    "    seedbase[0,-len(seed):] = seed[:]\n",
    "    return seedbase\n",
    "    "
   ]
  },
  {
   "cell_type": "code",
   "execution_count": 20,
   "metadata": {},
   "outputs": [
    {
     "name": "stdout",
     "output_type": "stream",
     "text": [
      "[[ 27.   6. 114.  91.  31. 127.]]\n"
     ]
    }
   ],
   "source": [
    "# pick a random seed\n",
    "train_length = 10\n",
    "\n",
    "random = np.random.randint(10,size=train_length)+1\n",
    "\n",
    "R = ''\n",
    "for i in range(len(random)):\n",
    "    R += str(Int_to_Char[random[i]])+' '\n",
    "\n",
    "Phrase = 'when i look upon your face'\n",
    "Phrase = keras.preprocessing.text.text_to_word_sequence(Phrase)\n",
    "LenOG =len(Phrase)\n",
    "\n",
    "\n",
    "seed = MakeInputType(Phrase[-train_length:],train_length)\n",
    "print(seed)"
   ]
  },
  {
   "cell_type": "code",
   "execution_count": 21,
   "metadata": {},
   "outputs": [
    {
     "name": "stdout",
     "output_type": "stream",
     "text": [
      "when i look upon your face \n",
      "when i look upon your face to back their swift dispatch too ride o'er stand on thy view sweet play'st taken thy view time's still must none be shown write be any true true unear'd womb in you despise come raz'd heaven's tell be change slow well hell in worst head doting sight to dote his blood increase fears the leaves force men worms rain we do come hence slow by happy show keep me read my true new single grief taken you have rang'd so vile in my brain doth move give trust it do call my love doth 'scap'd my tongue part out may lay give me bring my slave ' then call me read such me doth you be near hour back to be one friend desire forth whit your will one sorrow hate' to despise me read come see me well well love it love my love excuse live what is it in your desire whose mine eyes you despise what is is he do see it so do be near tomb age to thy fair part fall of words part are time come appear to our purpose friend pictur'd a fee is one show no in which which i do gone worthy feel do know the eloquence minutes tell in me read again is love you love bow to made that which it do go say be tend can be show to be purge in your side to hope posterity read awake in thee well cross find raz'd or thy deeds sweet best breast be view rage did have so fair friend gain a rank rage scope eyes look use mine judgment's find be love in ill alive to mend my skill remain scanted praise paws in your verse calls play'st still doth grossly love to be tend fiend stay grace deceive my face is perjur'd to be great so can keep away better chary on thee when my verses calls forth growing to wide prevail'd night amazeth weeds in thee head hour day and men the due same greater beside in your seeing to through raz'd sun on heaven equipage doth dwell give bounty his cherish sweet out pace fire eye forbid dwell stay so do be change the way it well in thee alone to be one part the world do be so clear a tomb increase and other part life doth spend be my verse abuse to his worth part love to none of you is took by your ne'er cloying did appear wide rage to check the wit sweets my frame use waste fell fierce delight red in fire delight lover hide in love's look flowers to be so feature longer do frame you do keep my mind as in my part part desire doth share my worth to cross the part one loss and more which which which which which i writ by tomb woe doth deceive give seem stronger bright in these contents delight doth bear my face faults shame may lay in his way keep see give copy me well well best must write ye art nothing no in of hearts do painting in men power clay conquer'd survey in me ill doth go say so so do keep it am do be do find it well loving be dumb better do count you dearer in your sight depart back the rest it now not none do see it love in time fear hath lie thyself take find call thy good belov'd hate my love bright love decay love they have write of hate that conscience alone love i love idolatry well 'tis from thy sight were face may boundless on in sun delight staineth amazeth seem were foes with showers gather'd green did seen come do be so near a tomb end my sight is found out their way right fair confound had be grace a cheeks fell a store sight force outworn seeing to be so loving amends me more one one loss and fair or took a world do see my friend as a worthless can approve be so so do be say be most near a flower whose disarm'd fire is made set me do not so do loved it ill can have show be be show no more most mark which which in your friend can see pass just well renew'd in thy jail ' eyes love love will call me well true well born could so or form wrought own beauty rehearse on wide fire cold above show bear so look tend on his head morn discloses night where doth cover young strange longer do show me well a tomb of thy mind doth boast bear in other cheeks buds on in his face eye sang bear give rolling do be thy mind as back to be won grief me to die will painting well well most never do bear a world whose end small look to complain fire eye to see tend so so writ praise slow with other fire smell comment painted did seen on night do hang the lease and gentlest time i love you so disgrace no told should not be foes a tomb of time ill were love enjoys me doth stay a view part back mother love to you to pitying of hate things most gone hate' on memory up decay near the sun loving best being pain give said one look'd of loss and i must none do feel it love of true belov'd evil beside eyes doth grossly grossly grossly knights on sweet delight mud quality delight increase dwell the ending well is was i took you do have so near a tomb eye hath own part shade intents are show his blood it see it sun they see the store or locked lips doth hid in his line sweet face survey brand prime hue set i time's foes affords on your mind sheds still die to invent find raz'd well in my way must turns his vassalage such my \n"
     ]
    }
   ],
   "source": [
    "X = seed\n",
    "\n",
    "for i in range(1000):\n",
    "    prediction = np.argmax(model.predict(X, verbose=0))\n",
    "    Phrase.append(Int_to_Char[prediction])\n",
    "    X = MakeInputType(Phrase[-train_length:],train_length)\n",
    "    \n",
    "Generated = ''\n",
    "GeneratedOG = ''\n",
    "for i in range(len(Phrase)):\n",
    "    Generated += Phrase[i]+' '\n",
    "    if i < LenOG:\n",
    "        GeneratedOG += Phrase[i]+' '\n",
    "print(GeneratedOG)\n",
    "print(Generated)"
   ]
  },
  {
   "cell_type": "code",
   "execution_count": null,
   "metadata": {},
   "outputs": [],
   "source": []
  },
  {
   "cell_type": "code",
   "execution_count": null,
   "metadata": {},
   "outputs": [],
   "source": []
  }
 ],
 "metadata": {
  "kernelspec": {
   "display_name": "Python 3",
   "language": "python",
   "name": "python3"
  },
  "language_info": {
   "codemirror_mode": {
    "name": "ipython",
    "version": 3
   },
   "file_extension": ".py",
   "mimetype": "text/x-python",
   "name": "python",
   "nbconvert_exporter": "python",
   "pygments_lexer": "ipython3",
   "version": "3.6.9"
  }
 },
 "nbformat": 4,
 "nbformat_minor": 2
}
